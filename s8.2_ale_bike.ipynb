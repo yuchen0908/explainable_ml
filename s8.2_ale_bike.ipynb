{
 "cells": [
  {
   "cell_type": "markdown",
   "metadata": {},
   "source": [
    "<H3>Accumulated Local Effects (ALE)</H3>\n",
    "<p>ALE is an alternative of PDP and it fixes the problem PDP has, which is inaccuracy when target feature is correlated to another feature in model input.</p>"
   ]
  },
  {
   "cell_type": "code",
   "execution_count": 2,
   "metadata": {},
   "outputs": [],
   "source": [
    "import warnings\n",
    "warnings.filterwarnings('ignore')\n",
    "# load libraries\n",
    "import pandas as pd\n",
    "import numpy as np\n",
    "import matplotlib.pyplot as plt\n",
    "import seaborn as sns\n",
    "import pickle\n",
    "from lib.process_data import process_bike\n"
   ]
  },
  {
   "cell_type": "code",
   "execution_count": 3,
   "metadata": {},
   "outputs": [],
   "source": [
    "# set up plotting theme and configurations\n",
    "# plt.style.available # to find all the style available to matplotlib\n",
    "plt.style.use('ggplot')\n",
    "colour_collection = {'orange':\"#ff9124\", 'blue':\"#2492ff\"}"
   ]
  },
  {
   "cell_type": "markdown",
   "metadata": {},
   "source": [
    "<h3>Loading bike data and regression model</h3>"
   ]
  },
  {
   "cell_type": "code",
   "execution_count": 4,
   "metadata": {},
   "outputs": [
    {
     "name": "stdout",
     "output_type": "stream",
     "text": [
      "convert yr to string\n"
     ]
    }
   ],
   "source": [
    "# loading bike data\n",
    "cols_df, bike_df = process_bike(\"./data/bike.csv\")\n",
    "feature_cols = cols_df.loc[cols_df.input.isin(['num']),'cols'].to_list()\n",
    "resp = 'cnt'\n",
    "X = bike_df[feature_cols].to_numpy()\n",
    "y = bike_df[resp].to_numpy()"
   ]
  },
  {
   "cell_type": "code",
   "execution_count": 5,
   "metadata": {},
   "outputs": [
    {
     "data": {
      "text/html": [
       "<div>\n",
       "<style scoped>\n",
       "    .dataframe tbody tr th:only-of-type {\n",
       "        vertical-align: middle;\n",
       "    }\n",
       "\n",
       "    .dataframe tbody tr th {\n",
       "        vertical-align: top;\n",
       "    }\n",
       "\n",
       "    .dataframe thead th {\n",
       "        text-align: right;\n",
       "    }\n",
       "</style>\n",
       "<table border=\"1\" class=\"dataframe\">\n",
       "  <thead>\n",
       "    <tr style=\"text-align: right;\">\n",
       "      <th></th>\n",
       "      <th>temp</th>\n",
       "      <th>hum</th>\n",
       "      <th>windspeed</th>\n",
       "      <th>days_since_2011</th>\n",
       "      <th>season_encoded</th>\n",
       "      <th>yr_encoded</th>\n",
       "      <th>mnth_encoded</th>\n",
       "      <th>holiday_encoded</th>\n",
       "      <th>weekday_encoded</th>\n",
       "      <th>workingday_encoded</th>\n",
       "      <th>weathersit_encoded</th>\n",
       "      <th>actual</th>\n",
       "      <th>lasso_pred</th>\n",
       "      <th>gbt_pred</th>\n",
       "    </tr>\n",
       "  </thead>\n",
       "  <tbody>\n",
       "    <tr>\n",
       "      <th>0</th>\n",
       "      <td>8.175849</td>\n",
       "      <td>80.5833</td>\n",
       "      <td>10.749882</td>\n",
       "      <td>0.0</td>\n",
       "      <td>3.0</td>\n",
       "      <td>0.0</td>\n",
       "      <td>0.0</td>\n",
       "      <td>0.0</td>\n",
       "      <td>5.0</td>\n",
       "      <td>0.0</td>\n",
       "      <td>0.0</td>\n",
       "      <td>985.0</td>\n",
       "      <td>1302.340894</td>\n",
       "      <td>1205.215691</td>\n",
       "    </tr>\n",
       "    <tr>\n",
       "      <th>1</th>\n",
       "      <td>9.083466</td>\n",
       "      <td>69.6087</td>\n",
       "      <td>16.652113</td>\n",
       "      <td>1.0</td>\n",
       "      <td>3.0</td>\n",
       "      <td>0.0</td>\n",
       "      <td>0.0</td>\n",
       "      <td>0.0</td>\n",
       "      <td>6.0</td>\n",
       "      <td>0.0</td>\n",
       "      <td>0.0</td>\n",
       "      <td>801.0</td>\n",
       "      <td>1346.367326</td>\n",
       "      <td>1527.731160</td>\n",
       "    </tr>\n",
       "    <tr>\n",
       "      <th>2</th>\n",
       "      <td>1.229108</td>\n",
       "      <td>43.7273</td>\n",
       "      <td>16.636703</td>\n",
       "      <td>2.0</td>\n",
       "      <td>3.0</td>\n",
       "      <td>0.0</td>\n",
       "      <td>0.0</td>\n",
       "      <td>0.0</td>\n",
       "      <td>0.0</td>\n",
       "      <td>1.0</td>\n",
       "      <td>1.0</td>\n",
       "      <td>1349.0</td>\n",
       "      <td>1203.845992</td>\n",
       "      <td>1266.543447</td>\n",
       "    </tr>\n",
       "    <tr>\n",
       "      <th>3</th>\n",
       "      <td>1.400000</td>\n",
       "      <td>59.0435</td>\n",
       "      <td>10.739832</td>\n",
       "      <td>3.0</td>\n",
       "      <td>3.0</td>\n",
       "      <td>0.0</td>\n",
       "      <td>0.0</td>\n",
       "      <td>0.0</td>\n",
       "      <td>1.0</td>\n",
       "      <td>1.0</td>\n",
       "      <td>1.0</td>\n",
       "      <td>1562.0</td>\n",
       "      <td>1172.281448</td>\n",
       "      <td>1452.411320</td>\n",
       "    </tr>\n",
       "    <tr>\n",
       "      <th>4</th>\n",
       "      <td>2.666979</td>\n",
       "      <td>43.6957</td>\n",
       "      <td>12.522300</td>\n",
       "      <td>4.0</td>\n",
       "      <td>3.0</td>\n",
       "      <td>0.0</td>\n",
       "      <td>0.0</td>\n",
       "      <td>0.0</td>\n",
       "      <td>2.0</td>\n",
       "      <td>1.0</td>\n",
       "      <td>1.0</td>\n",
       "      <td>1600.0</td>\n",
       "      <td>1607.003516</td>\n",
       "      <td>1645.921447</td>\n",
       "    </tr>\n",
       "  </tbody>\n",
       "</table>\n",
       "</div>"
      ],
      "text/plain": [
       "       temp      hum  windspeed  days_since_2011  season_encoded  yr_encoded  \\\n",
       "0  8.175849  80.5833  10.749882              0.0             3.0         0.0   \n",
       "1  9.083466  69.6087  16.652113              1.0             3.0         0.0   \n",
       "2  1.229108  43.7273  16.636703              2.0             3.0         0.0   \n",
       "3  1.400000  59.0435  10.739832              3.0             3.0         0.0   \n",
       "4  2.666979  43.6957  12.522300              4.0             3.0         0.0   \n",
       "\n",
       "   mnth_encoded  holiday_encoded  weekday_encoded  workingday_encoded  \\\n",
       "0           0.0              0.0              5.0                 0.0   \n",
       "1           0.0              0.0              6.0                 0.0   \n",
       "2           0.0              0.0              0.0                 1.0   \n",
       "3           0.0              0.0              1.0                 1.0   \n",
       "4           0.0              0.0              2.0                 1.0   \n",
       "\n",
       "   weathersit_encoded  actual   lasso_pred     gbt_pred  \n",
       "0                 0.0   985.0  1302.340894  1205.215691  \n",
       "1                 0.0   801.0  1346.367326  1527.731160  \n",
       "2                 1.0  1349.0  1203.845992  1266.543447  \n",
       "3                 1.0  1562.0  1172.281448  1452.411320  \n",
       "4                 1.0  1600.0  1607.003516  1645.921447  "
      ]
     },
     "execution_count": 5,
     "metadata": {},
     "output_type": "execute_result"
    }
   ],
   "source": [
    "# loading bike model and fetching predicted value along with bike_df\n",
    "lasso_model = pickle.load(open(\"./model/bike_lasso.sav\",'rb'))\n",
    "gradient_tree_model = pickle.load(open(\"./model/bike_boost_tree.sav\",'rb'))\n",
    "outcome_df = pd.DataFrame(data=np.hstack([X\n",
    "    , y.reshape(-1,1)\n",
    "    , lasso_model.predict(X).reshape(-1,1)\n",
    "    , gradient_tree_model.predict(X).reshape(-1,1)\n",
    "]), columns = feature_cols + ['actual','lasso_pred', 'gbt_pred'])\n",
    "outcome_df.head(5)"
   ]
  },
  {
   "cell_type": "code",
   "execution_count": 6,
   "metadata": {},
   "outputs": [],
   "source": [
    "# loading the encode map\n",
    "encode_map = {'season':['SPRING','SUMMER','FALL','WINTER']\n",
    "        , 'yr':['2011','2012']\n",
    "        , 'mnth':['JAN','FEB','MAR','APR','MAY','JUN','JUL','AUG','SEP','OCT','NOV','DEC']\n",
    "        , 'holiday':['NO HOLIDAY','HOLIDAY']\n",
    "        , 'weekday':['MON','TUE','WED','THU','FRI','SAT','SUN']\n",
    "        , 'workingday':['NO WORKING DAY','WORKING DAY']\n",
    "        , 'weathersit':['MISTY','GOOD','RAIN/SNOW/STORM']\n",
    "    }"
   ]
  },
  {
   "cell_type": "code",
   "execution_count": 7,
   "metadata": {},
   "outputs": [
    {
     "data": {
      "text/html": [
       "<div>\n",
       "<style scoped>\n",
       "    .dataframe tbody tr th:only-of-type {\n",
       "        vertical-align: middle;\n",
       "    }\n",
       "\n",
       "    .dataframe tbody tr th {\n",
       "        vertical-align: top;\n",
       "    }\n",
       "\n",
       "    .dataframe thead th {\n",
       "        text-align: right;\n",
       "    }\n",
       "</style>\n",
       "<table border=\"1\" class=\"dataframe\">\n",
       "  <thead>\n",
       "    <tr style=\"text-align: right;\">\n",
       "      <th></th>\n",
       "      <th>features</th>\n",
       "      <th>coef</th>\n",
       "    </tr>\n",
       "  </thead>\n",
       "  <tbody>\n",
       "    <tr>\n",
       "      <th>0</th>\n",
       "      <td>temp</td>\n",
       "      <td>107.23115878096603</td>\n",
       "    </tr>\n",
       "    <tr>\n",
       "      <th>1</th>\n",
       "      <td>hum</td>\n",
       "      <td>-25.896402703428233</td>\n",
       "    </tr>\n",
       "    <tr>\n",
       "      <th>2</th>\n",
       "      <td>windspeed</td>\n",
       "      <td>-57.9913661447737</td>\n",
       "    </tr>\n",
       "    <tr>\n",
       "      <th>3</th>\n",
       "      <td>days_since_2011</td>\n",
       "      <td>4.924194584100834</td>\n",
       "    </tr>\n",
       "    <tr>\n",
       "      <th>4</th>\n",
       "      <td>season_encoded</td>\n",
       "      <td>-281.0821979534998</td>\n",
       "    </tr>\n",
       "    <tr>\n",
       "      <th>5</th>\n",
       "      <td>yr_encoded</td>\n",
       "      <td>197.73937386253644</td>\n",
       "    </tr>\n",
       "    <tr>\n",
       "      <th>6</th>\n",
       "      <td>mnth_encoded</td>\n",
       "      <td>-44.529472625157084</td>\n",
       "    </tr>\n",
       "    <tr>\n",
       "      <th>7</th>\n",
       "      <td>holiday_encoded</td>\n",
       "      <td>-547.2552873132154</td>\n",
       "    </tr>\n",
       "    <tr>\n",
       "      <th>8</th>\n",
       "      <td>weekday_encoded</td>\n",
       "      <td>-0.14680794847795178</td>\n",
       "    </tr>\n",
       "    <tr>\n",
       "      <th>9</th>\n",
       "      <td>workingday_encoded</td>\n",
       "      <td>107.81567428731715</td>\n",
       "    </tr>\n",
       "    <tr>\n",
       "      <th>10</th>\n",
       "      <td>weathersit_encoded</td>\n",
       "      <td>-85.03894423394115</td>\n",
       "    </tr>\n",
       "  </tbody>\n",
       "</table>\n",
       "</div>"
      ],
      "text/plain": [
       "              features                  coef\n",
       "0                 temp    107.23115878096603\n",
       "1                  hum   -25.896402703428233\n",
       "2            windspeed     -57.9913661447737\n",
       "3      days_since_2011     4.924194584100834\n",
       "4       season_encoded    -281.0821979534998\n",
       "5           yr_encoded    197.73937386253644\n",
       "6         mnth_encoded   -44.529472625157084\n",
       "7      holiday_encoded    -547.2552873132154\n",
       "8      weekday_encoded  -0.14680794847795178\n",
       "9   workingday_encoded    107.81567428731715\n",
       "10  weathersit_encoded    -85.03894423394115"
      ]
     },
     "execution_count": 7,
     "metadata": {},
     "output_type": "execute_result"
    }
   ],
   "source": [
    "# lasso's coef table\n",
    "feature_df = pd.DataFrame(np.hstack([\n",
    "    np.array(feature_cols).reshape(-1,1)\\\n",
    "    , lasso_model.coef_.reshape(-1,1)])\\\n",
    "    , columns=['features','coef'])\n",
    "feature_df"
   ]
  },
  {
   "cell_type": "markdown",
   "metadata": {},
   "source": [
    "<h3>Partial Depdency Plot Issue</h3>\n",
    "<p>In the section let's explore the relationship between windspeed and humidity</p>\n",
    "<p>Say windspeed is our feature to explain.</p>\n",
    "<ul>\n",
    "<li>Our assumption is that humidity distribution will be the same at any point of windspeed.</li>\n",
    "<li>However, We can see that humidity distribution is very different from the its distribution of windspeed at 25km/h. It means that we can't apply windspeed as 25 at high humidity scenario. Let's pause and think about it. When windspeed is high, from our experience, it would be a cool dry day. Certainly humidity wouldn't be high.</li>\n",
    "<li>Hence, using PDP for windspeed won't work perfectly given their negative correlation. <u>More specifically, we're averaging on instances don't exist in the dataset.</u></li>\n",
    "</ul>"
   ]
  },
  {
   "cell_type": "code",
   "execution_count": 63,
   "metadata": {},
   "outputs": [
    {
     "data": {
      "image/png": "[encoded data removed]",
      "text/plain": [
       "<Figure size 432x288 with 1 Axes>"
      ]
     },
     "metadata": {},
     "output_type": "display_data"
    }
   ],
   "source": [
    "g = sns.regplot(x = 'windspeed', y='hum', data = bike_df, fit_reg=True\n",
    "    , scatter_kws={\"color\": \"#ff9124\", 's':10}, line_kws={\"color\": \"#2492ff\"})\n",
    "g.plot(np.ones(10) * 25, np.linspace(0,100,num=10), \"--\", color=\"blue\")\n",
    "plt.show()"
   ]
  },
  {
   "cell_type": "code",
   "execution_count": 62,
   "metadata": {},
   "outputs": [
    {
     "data": {
      "image/png": "[encoded data removed]",
      "text/plain": [
       "<Figure size 432x288 with 1 Axes>"
      ]
     },
     "metadata": {},
     "output_type": "display_data"
    }
   ],
   "source": [
    "# to demonstrate humidity distribution varies at different points of windspeed\n",
    "# this chart also solves the problem of plotting two seaborn charts in one figure.\n",
    "#\n",
    "wds_gap = 1\n",
    "f, ax1 = plt.subplots(figsize=(6,4))\n",
    "sns.kdeplot(data = bike_df, x = 'hum', ax=ax1, color=\"#ff9124\", label='wds overall')\n",
    "sns.kdeplot(data = bike_df[(bike_df['windspeed'] >= (25 - wds_gap)) & (bike_df['windspeed'] <= (25 + wds_gap))]['hum']\\\n",
    "    , ax=ax1, color = \"blue\", label=\"wds at 25km/h\")\n",
    "ax1.legend(loc=\"best\")\n",
    "plt.show()"
   ]
  },
  {
   "cell_type": "markdown",
   "metadata": {},
   "source": [
    "<h5>Marginal Plot (M-Plot)</h5>\n",
    "<p>one possible solution to resolve this issue is via M-Plot. For example, if we want to know the impact of windspeed at 25km/h, we only average the predicted value by only taking P(humidity|windspeed=25). Same for any other values of windspeed.</p>\n",
    "<p>However, our goal is to find the impact Windspeed itself. We already know humidity and windspeed going hand in hand. Hence, we want to isolate the mixed impact from other features like humidity.</p>\n",
    "<p>M-plot is not an ideal solution</p>"
   ]
  },
  {
   "cell_type": "markdown",
   "metadata": {},
   "source": [
    "<h5>Accumulated Local Effect</h5>\n",
    "<p>If we recall the issue of PDP and M-Plot. It's 1) non-existance of data instance and correlated / mixed impact on the feature that needs to explain on.</p>\n",
    "<p>If we want to explain impact of windspeed at 25km/h, what we can do to cancel our the humidity mixed impact on final prediction?</p>\n",
    "<ol>\n",
    "<li>One way is to create a small window around wind speed say from 24km/h to 26km/h. Our assumption is that the humidity dist won't change much from 24km/h to 26km/h. And to be fair, we always can create a window small enough so that it doesn't change the local distribution of humidity.</li>\n",
    "<li>Then we calculate the average predicted value for lower bound (windspeed at 24km/h), say Pl, and upper bound (windspeed at 26km/h), say Ph.</li>\n",
    "<li>Our windspeed impact at 25km/h then is (Ph - Pl). In this way, we cancel out the impact from humidity.</li>\n",
    "</ol>"
   ]
  },
  {
   "cell_type": "code",
   "execution_count": null,
   "metadata": {},
   "outputs": [],
   "source": []
  }
 ],
 "metadata": {
  "interpreter": {
   "hash": "e0d1df7e1c407732142af604929ef2a2f2a1e312d7fef7f2f906208ef4a4a032"
  },
  "kernelspec": {
   "display_name": "Python 3.7.0 ('Repo')",
   "language": "python",
   "name": "python3"
  },
  "language_info": {
   "codemirror_mode": {
    "name": "ipython",
    "version": 3
   },
   "file_extension": ".py",
   "mimetype": "text/x-python",
   "name": "python",
   "nbconvert_exporter": "python",
   "pygments_lexer": "ipython3",
   "version": "3.7.0"
  },
  "orig_nbformat": 4
 },
 "nbformat": 4,
 "nbformat_minor": 2
}
