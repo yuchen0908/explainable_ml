{
 "cells": [
  {
   "cell_type": "code",
   "execution_count": 44,
   "metadata": {},
   "outputs": [],
   "source": [
    "import pandas as pd\n",
    "import numpy as np\n",
    "import os\n",
    "import matplotlib.pyplot as plt"
   ]
  },
  {
   "cell_type": "markdown",
   "metadata": {},
   "source": [
    "<h3>Load Data</h3>\n",
    "<p>In the section, we will:</p>\n",
    "<ul>\n",
    "    <li>find the first few rows of data</li>\n",
    "    <li>find data types</li>\n",
    "    <li>test if there is any nulls</li>\n",
    "</ul>"
   ]
  },
  {
   "cell_type": "code",
   "execution_count": 45,
   "metadata": {},
   "outputs": [
    {
     "data": {
      "text/html": [
       "<div>\n",
       "<style scoped>\n",
       "    .dataframe tbody tr th:only-of-type {\n",
       "        vertical-align: middle;\n",
       "    }\n",
       "\n",
       "    .dataframe tbody tr th {\n",
       "        vertical-align: top;\n",
       "    }\n",
       "\n",
       "    .dataframe thead th {\n",
       "        text-align: right;\n",
       "    }\n",
       "</style>\n",
       "<table border=\"1\" class=\"dataframe\">\n",
       "  <thead>\n",
       "    <tr style=\"text-align: right;\">\n",
       "      <th></th>\n",
       "      <th>season</th>\n",
       "      <th>yr</th>\n",
       "      <th>mnth</th>\n",
       "      <th>holiday</th>\n",
       "      <th>weekday</th>\n",
       "      <th>workingday</th>\n",
       "      <th>weathersit</th>\n",
       "      <th>temp</th>\n",
       "      <th>hum</th>\n",
       "      <th>windspeed</th>\n",
       "      <th>cnt</th>\n",
       "      <th>days_since_2011</th>\n",
       "    </tr>\n",
       "  </thead>\n",
       "  <tbody>\n",
       "    <tr>\n",
       "      <th>0</th>\n",
       "      <td>WINTER</td>\n",
       "      <td>2011</td>\n",
       "      <td>JAN</td>\n",
       "      <td>NO HOLIDAY</td>\n",
       "      <td>SAT</td>\n",
       "      <td>NO WORKING DAY</td>\n",
       "      <td>MISTY</td>\n",
       "      <td>8.175849</td>\n",
       "      <td>80.5833</td>\n",
       "      <td>10.749882</td>\n",
       "      <td>985</td>\n",
       "      <td>0</td>\n",
       "    </tr>\n",
       "    <tr>\n",
       "      <th>1</th>\n",
       "      <td>WINTER</td>\n",
       "      <td>2011</td>\n",
       "      <td>JAN</td>\n",
       "      <td>NO HOLIDAY</td>\n",
       "      <td>SUN</td>\n",
       "      <td>NO WORKING DAY</td>\n",
       "      <td>MISTY</td>\n",
       "      <td>9.083466</td>\n",
       "      <td>69.6087</td>\n",
       "      <td>16.652113</td>\n",
       "      <td>801</td>\n",
       "      <td>1</td>\n",
       "    </tr>\n",
       "    <tr>\n",
       "      <th>2</th>\n",
       "      <td>WINTER</td>\n",
       "      <td>2011</td>\n",
       "      <td>JAN</td>\n",
       "      <td>NO HOLIDAY</td>\n",
       "      <td>MON</td>\n",
       "      <td>WORKING DAY</td>\n",
       "      <td>GOOD</td>\n",
       "      <td>1.229108</td>\n",
       "      <td>43.7273</td>\n",
       "      <td>16.636703</td>\n",
       "      <td>1349</td>\n",
       "      <td>2</td>\n",
       "    </tr>\n",
       "    <tr>\n",
       "      <th>3</th>\n",
       "      <td>WINTER</td>\n",
       "      <td>2011</td>\n",
       "      <td>JAN</td>\n",
       "      <td>NO HOLIDAY</td>\n",
       "      <td>TUE</td>\n",
       "      <td>WORKING DAY</td>\n",
       "      <td>GOOD</td>\n",
       "      <td>1.400000</td>\n",
       "      <td>59.0435</td>\n",
       "      <td>10.739832</td>\n",
       "      <td>1562</td>\n",
       "      <td>3</td>\n",
       "    </tr>\n",
       "    <tr>\n",
       "      <th>4</th>\n",
       "      <td>WINTER</td>\n",
       "      <td>2011</td>\n",
       "      <td>JAN</td>\n",
       "      <td>NO HOLIDAY</td>\n",
       "      <td>WED</td>\n",
       "      <td>WORKING DAY</td>\n",
       "      <td>GOOD</td>\n",
       "      <td>2.666979</td>\n",
       "      <td>43.6957</td>\n",
       "      <td>12.522300</td>\n",
       "      <td>1600</td>\n",
       "      <td>4</td>\n",
       "    </tr>\n",
       "  </tbody>\n",
       "</table>\n",
       "</div>"
      ],
      "text/plain": [
       "   season    yr mnth     holiday weekday      workingday weathersit      temp  \\\n",
       "0  WINTER  2011  JAN  NO HOLIDAY     SAT  NO WORKING DAY      MISTY  8.175849   \n",
       "1  WINTER  2011  JAN  NO HOLIDAY     SUN  NO WORKING DAY      MISTY  9.083466   \n",
       "2  WINTER  2011  JAN  NO HOLIDAY     MON     WORKING DAY       GOOD  1.229108   \n",
       "3  WINTER  2011  JAN  NO HOLIDAY     TUE     WORKING DAY       GOOD  1.400000   \n",
       "4  WINTER  2011  JAN  NO HOLIDAY     WED     WORKING DAY       GOOD  2.666979   \n",
       "\n",
       "       hum  windspeed   cnt  days_since_2011  \n",
       "0  80.5833  10.749882   985                0  \n",
       "1  69.6087  16.652113   801                1  \n",
       "2  43.7273  16.636703  1349                2  \n",
       "3  59.0435  10.739832  1562                3  \n",
       "4  43.6957  12.522300  1600                4  "
      ]
     },
     "execution_count": 45,
     "metadata": {},
     "output_type": "execute_result"
    }
   ],
   "source": [
    "# data snapshot\n",
    "bike_df = pd.read_csv(\"./data/bike.csv\")\n",
    "bike_df.head(5)"
   ]
  },
  {
   "cell_type": "code",
   "execution_count": 46,
   "metadata": {},
   "outputs": [
    {
     "data": {
      "text/html": [
       "<div>\n",
       "<style scoped>\n",
       "    .dataframe tbody tr th:only-of-type {\n",
       "        vertical-align: middle;\n",
       "    }\n",
       "\n",
       "    .dataframe tbody tr th {\n",
       "        vertical-align: top;\n",
       "    }\n",
       "\n",
       "    .dataframe thead th {\n",
       "        text-align: right;\n",
       "    }\n",
       "</style>\n",
       "<table border=\"1\" class=\"dataframe\">\n",
       "  <thead>\n",
       "    <tr style=\"text-align: right;\">\n",
       "      <th></th>\n",
       "      <th>yr</th>\n",
       "      <th>temp</th>\n",
       "      <th>hum</th>\n",
       "      <th>windspeed</th>\n",
       "      <th>cnt</th>\n",
       "      <th>days_since_2011</th>\n",
       "    </tr>\n",
       "  </thead>\n",
       "  <tbody>\n",
       "    <tr>\n",
       "      <th>count</th>\n",
       "      <td>731.000000</td>\n",
       "      <td>731.000000</td>\n",
       "      <td>731.000000</td>\n",
       "      <td>731.000000</td>\n",
       "      <td>731.000000</td>\n",
       "      <td>731.000000</td>\n",
       "    </tr>\n",
       "    <tr>\n",
       "      <th>mean</th>\n",
       "      <td>2011.500684</td>\n",
       "      <td>15.283085</td>\n",
       "      <td>62.789406</td>\n",
       "      <td>12.762576</td>\n",
       "      <td>4504.348837</td>\n",
       "      <td>365.000000</td>\n",
       "    </tr>\n",
       "    <tr>\n",
       "      <th>std</th>\n",
       "      <td>0.500342</td>\n",
       "      <td>8.603397</td>\n",
       "      <td>14.242910</td>\n",
       "      <td>5.192357</td>\n",
       "      <td>1937.211452</td>\n",
       "      <td>211.165812</td>\n",
       "    </tr>\n",
       "    <tr>\n",
       "      <th>min</th>\n",
       "      <td>2011.000000</td>\n",
       "      <td>-5.220871</td>\n",
       "      <td>0.000000</td>\n",
       "      <td>1.500244</td>\n",
       "      <td>22.000000</td>\n",
       "      <td>0.000000</td>\n",
       "    </tr>\n",
       "    <tr>\n",
       "      <th>25%</th>\n",
       "      <td>2011.000000</td>\n",
       "      <td>7.842925</td>\n",
       "      <td>52.000000</td>\n",
       "      <td>9.041650</td>\n",
       "      <td>3152.000000</td>\n",
       "      <td>182.500000</td>\n",
       "    </tr>\n",
       "    <tr>\n",
       "      <th>50%</th>\n",
       "      <td>2012.000000</td>\n",
       "      <td>15.421651</td>\n",
       "      <td>62.666700</td>\n",
       "      <td>12.125325</td>\n",
       "      <td>4548.000000</td>\n",
       "      <td>365.000000</td>\n",
       "    </tr>\n",
       "    <tr>\n",
       "      <th>75%</th>\n",
       "      <td>2012.000000</td>\n",
       "      <td>22.804575</td>\n",
       "      <td>73.020850</td>\n",
       "      <td>15.625371</td>\n",
       "      <td>5956.000000</td>\n",
       "      <td>547.500000</td>\n",
       "    </tr>\n",
       "    <tr>\n",
       "      <th>max</th>\n",
       "      <td>2012.000000</td>\n",
       "      <td>32.498349</td>\n",
       "      <td>97.250000</td>\n",
       "      <td>34.000021</td>\n",
       "      <td>8714.000000</td>\n",
       "      <td>730.000000</td>\n",
       "    </tr>\n",
       "  </tbody>\n",
       "</table>\n",
       "</div>"
      ],
      "text/plain": [
       "                yr        temp         hum   windspeed          cnt  \\\n",
       "count   731.000000  731.000000  731.000000  731.000000   731.000000   \n",
       "mean   2011.500684   15.283085   62.789406   12.762576  4504.348837   \n",
       "std       0.500342    8.603397   14.242910    5.192357  1937.211452   \n",
       "min    2011.000000   -5.220871    0.000000    1.500244    22.000000   \n",
       "25%    2011.000000    7.842925   52.000000    9.041650  3152.000000   \n",
       "50%    2012.000000   15.421651   62.666700   12.125325  4548.000000   \n",
       "75%    2012.000000   22.804575   73.020850   15.625371  5956.000000   \n",
       "max    2012.000000   32.498349   97.250000   34.000021  8714.000000   \n",
       "\n",
       "       days_since_2011  \n",
       "count       731.000000  \n",
       "mean        365.000000  \n",
       "std         211.165812  \n",
       "min           0.000000  \n",
       "25%         182.500000  \n",
       "50%         365.000000  \n",
       "75%         547.500000  \n",
       "max         730.000000  "
      ]
     },
     "execution_count": 46,
     "metadata": {},
     "output_type": "execute_result"
    }
   ],
   "source": [
    "bike_df.describe()"
   ]
  },
  {
   "cell_type": "code",
   "execution_count": 47,
   "metadata": {},
   "outputs": [
    {
     "data": {
      "text/plain": [
       "season              object\n",
       "yr                   int64\n",
       "mnth                object\n",
       "holiday             object\n",
       "weekday             object\n",
       "workingday          object\n",
       "weathersit          object\n",
       "temp               float64\n",
       "hum                float64\n",
       "windspeed          float64\n",
       "cnt                  int64\n",
       "days_since_2011      int64\n",
       "dtype: object"
      ]
     },
     "execution_count": 47,
     "metadata": {},
     "output_type": "execute_result"
    }
   ],
   "source": [
    "# check data type\n",
    "bike_df.dtypes"
   ]
  },
  {
   "cell_type": "code",
   "execution_count": 48,
   "metadata": {},
   "outputs": [
    {
     "data": {
      "text/plain": [
       "season             0\n",
       "yr                 0\n",
       "mnth               0\n",
       "holiday            0\n",
       "weekday            0\n",
       "workingday         0\n",
       "weathersit         0\n",
       "temp               0\n",
       "hum                0\n",
       "windspeed          0\n",
       "cnt                0\n",
       "days_since_2011    0\n",
       "dtype: int64"
      ]
     },
     "execution_count": 48,
     "metadata": {},
     "output_type": "execute_result"
    }
   ],
   "source": [
    "# check data if there is any null values\n",
    "bike_df.isnull().sum()"
   ]
  },
  {
   "cell_type": "markdown",
   "metadata": {},
   "source": [
    "<h3>Data Feature Engineering</h3>\n",
    "<p>in model explaining section, we will need to go through the same feature engineering process so that we have the exact dataset for prediction</p>"
   ]
  },
  {
   "cell_type": "code",
   "execution_count": 49,
   "metadata": {},
   "outputs": [
    {
     "name": "stdout",
     "output_type": "stream",
     "text": [
      "convert yr to string\n"
     ]
    }
   ],
   "source": [
    "from sklearn.preprocessing import OneHotEncoder, OrdinalEncoder\n",
    "# data cleaning\n",
    "# converting yr to string / categorical variable\n",
    "if bike_df.yr.dtype != pd.StringDtype:\n",
    "    bike_df['yr'] = bike_df.yr.astype(str)\n",
    "    print('convert yr to string')\n",
    "else:\n",
    "    print(\"yr is converted alredy\")"
   ]
  },
  {
   "cell_type": "code",
   "execution_count": 50,
   "metadata": {},
   "outputs": [
    {
     "name": "stdout",
     "output_type": "stream",
     "text": [
      "season, ['WINTER' 'SPRING' 'SUMMER' 'FALL']\n",
      "yr, ['2011' '2012']\n",
      "mnth, ['JAN' 'FEB' 'MAR' 'APR' 'MAY' 'JUN' 'JUL' 'AUG' 'SEP' 'OCT' 'NOV' 'DEC']\n",
      "holiday, ['NO HOLIDAY' 'HOLIDAY']\n",
      "weekday, ['SAT' 'SUN' 'MON' 'TUE' 'WED' 'THU' 'FRI']\n",
      "workingday, ['NO WORKING DAY' 'WORKING DAY']\n",
      "weathersit, ['MISTY' 'GOOD' 'RAIN/SNOW/STORM']\n"
     ]
    }
   ],
   "source": [
    "# prepare for one hot encoding and ordinal encoding\n",
    "for item in [\"season\",\"yr\",\"mnth\",\"holiday\",\"weekday\",\"workingday\",\"weathersit\"]:\n",
    "    print(f\"{item}, {bike_df[item].unique()}\")"
   ]
  },
  {
   "cell_type": "code",
   "execution_count": 51,
   "metadata": {},
   "outputs": [],
   "source": [
    "# ordinal encoding\n",
    "encode_map = {'season':['SPRING','SUMMER','FALL','WINTER']\n",
    "    , 'yr':['2011','2012']\n",
    "    , 'mnth':['JAN','FEB','MAR','APR','MAY','JUN','JUL','AUG','SEP','OCT','NOV','DEC']\n",
    "    , 'holiday':['NO HOLIDAY','HOLIDAY']\n",
    "    , 'weekday':['MON','TUE','WED','THU','FRI','SAT','SUN']\n",
    "    , 'workingday':['NO WORKING DAY','WORKING DAY']\n",
    "    , 'weathersit':['MISTY','GOOD','RAIN/SNOW/STORM']\n",
    "}\n",
    "\n",
    "for k in encode_map.keys():\n",
    "    bike_df[f'{k}_encoded'] = OrdinalEncoder(categories=[encode_map.get(k)])\\\n",
    "        .fit_transform(np.asarray(bike_df[k]).reshape(-1,1)).reshape(-1)"
   ]
  },
  {
   "cell_type": "markdown",
   "metadata": {},
   "source": [
    "<h3>Exploratory Data Analysis</h3>\n",
    "<p>In the section, we will:</p>\n",
    "<ul>\n",
    "    <li>find the correlation between resp \"cnt\" and the numerical features</li>\n",
    "    <li>find the distribution of each numerical variable</li>\n",
    "</ul>"
   ]
  },
  {
   "cell_type": "code",
   "execution_count": 52,
   "metadata": {},
   "outputs": [],
   "source": [
    "# set up blueprint\n",
    "cols_df = pd.DataFrame(bike_df.dtypes)\n",
    "cols_df.reset_index(drop=False, inplace=True)\n",
    "cols_df.rename(columns={\"index\":\"cols\",0:'data_types'}, inplace=True)\n",
    "cols_df['input'] = cols_df.data_types.apply(lambda x: \"cat\" if x == 'object' else \"num\")\n",
    "cols_df.loc[cols_df.cols == 'cnt', 'input'] = 'resp'"
   ]
  },
  {
   "cell_type": "code",
   "execution_count": 53,
   "metadata": {},
   "outputs": [
    {
     "data": {
      "image/png": "[encoded data removed]",
      "text/plain": [
       "<Figure size 432x288 with 1 Axes>"
      ]
     },
     "metadata": {
      "needs_background": "light"
     },
     "output_type": "display_data"
    }
   ],
   "source": [
    "# EDA \n",
    "# calculate correlation\n",
    "# https://pandas.pydata.org/docs/reference/api/pandas.DataFrame.plot.html\n",
    "bike_df[cols_df.loc[cols_df.input.isin(['num']),'cols'].to_list()]\\\n",
    "    .corrwith(other = bike_df.cnt, axis=0, method='pearson').sort_values()\\\n",
    "    .plot(kind='barh', xlim=(-0.5,0.8))\n",
    "plt.show()"
   ]
  },
  {
   "cell_type": "code",
   "execution_count": 54,
   "metadata": {},
   "outputs": [
    {
     "data": {
      "text/plain": [
       "array([[<AxesSubplot:title={'center':'temp'}>,\n",
       "        <AxesSubplot:title={'center':'hum'}>,\n",
       "        <AxesSubplot:title={'center':'windspeed'}>],\n",
       "       [<AxesSubplot:title={'center':'cnt'}>,\n",
       "        <AxesSubplot:title={'center':'days_since_2011'}>,\n",
       "        <AxesSubplot:title={'center':'season_encoded'}>],\n",
       "       [<AxesSubplot:title={'center':'yr_encoded'}>,\n",
       "        <AxesSubplot:title={'center':'mnth_encoded'}>,\n",
       "        <AxesSubplot:title={'center':'holiday_encoded'}>],\n",
       "       [<AxesSubplot:title={'center':'weekday_encoded'}>,\n",
       "        <AxesSubplot:title={'center':'workingday_encoded'}>,\n",
       "        <AxesSubplot:title={'center':'weathersit_encoded'}>]],\n",
       "      dtype=object)"
      ]
     },
     "execution_count": 54,
     "metadata": {},
     "output_type": "execute_result"
    },
    {
     "data": {
      "image/png": "[encoded data removed]",
      "text/plain": [
       "<Figure size 720x720 with 12 Axes>"
      ]
     },
     "metadata": {
      "needs_background": "light"
     },
     "output_type": "display_data"
    }
   ],
   "source": [
    "# ref: https://matplotlib.org/3.5.0/api/_as_gen/matplotlib.pyplot.hist.html\n",
    "bike_df[cols_df.loc[cols_df.input.isin(['num','resp']),'cols'].to_list()].hist(figsize=(10,10), rwidth=0.8)"
   ]
  },
  {
   "cell_type": "markdown",
   "metadata": {},
   "source": [
    "<h3>Modelling and Evaluation</h3>\n",
    "<p>In the section, we will:</p>\n",
    "<ul>\n",
    "    <li>train the model with L1 regularisation</li>\n",
    "    <li>evaluate the model with the learning curve plot</li>\n",
    "</ul>"
   ]
  },
  {
   "cell_type": "code",
   "execution_count": 55,
   "metadata": {},
   "outputs": [
    {
     "name": "stdout",
     "output_type": "stream",
     "text": [
      "details of data:\n",
      "holdout group size 147, 20.0% \n",
      "and train/test group size 584, 80.0%\n",
      "\n"
     ]
    }
   ],
   "source": [
    "# reference\n",
    "# GridSearchCV, https://scikit-learn.org/stable/modules/generated/sklearn.model_selection.GridSearchCV.html\n",
    "from sklearn.model_selection import train_test_split, GridSearchCV  # used in training \n",
    "from sklearn.linear_model import Lasso, LinearRegression\n",
    "from sklearn.model_selection import ShuffleSplit, learning_curve    # used in plotting learning curve\n",
    "\n",
    "\n",
    "split_state = 801\n",
    "feature_cols = cols_df.loc[cols_df.input.isin(['num']),'cols'].to_list()\n",
    "X_train, X_test, y_train, y_test = train_test_split(bike_df[feature_cols].to_numpy(), bike_df['cnt'].to_numpy(), random_state=split_state, test_size=0.2)\n",
    "print(f\"\"\"details of data:\n",
    "holdout group size {len(X_test)}, {np.round(len(X_test)/len(bike_df),2) * 100}% \n",
    "and train/test group size {len(X_train)}, {np.round(len(X_train)/len(bike_df),2) * 100}%\n",
    "\"\"\")"
   ]
  },
  {
   "cell_type": "code",
   "execution_count": 56,
   "metadata": {},
   "outputs": [],
   "source": [
    "# train the model\n",
    "lasso_params = {'alpha':[0.001, 0.005, 0.01, 0.05, 0.1, 0.5, 1]}\n",
    "grid_lasso_reg = GridSearchCV(Lasso(random_state=100, tol=1.2*1e-1, normalize=True, fit_intercept=True), lasso_params)\n",
    "grid_lasso_reg.fit(X_train,y_train)\n",
    "lasso_reg = grid_lasso_reg.best_estimator_\n"
   ]
  },
  {
   "cell_type": "code",
   "execution_count": 57,
   "metadata": {},
   "outputs": [
    {
     "name": "stdout",
     "output_type": "stream",
     "text": [
      "n_iter - 3\n",
      "coefficient - [ 1.07231159e+02 -2.58964027e+01 -5.79913661e+01  4.92419458e+00\n",
      " -2.81082198e+02  1.97739374e+02 -4.45294726e+01 -5.47255287e+02\n",
      " -1.46807948e-01  1.07815674e+02 -8.50389442e+01]\n",
      "dual gap - 225541837.84918892\n",
      "intercept - 3979.8336964987725\n"
     ]
    },
    {
     "data": {
      "text/plain": [
       "{'alpha': 0.1,\n",
       " 'copy_X': True,\n",
       " 'fit_intercept': True,\n",
       " 'max_iter': 1000,\n",
       " 'normalize': True,\n",
       " 'positive': False,\n",
       " 'precompute': False,\n",
       " 'random_state': 100,\n",
       " 'selection': 'cyclic',\n",
       " 'tol': 0.12,\n",
       " 'warm_start': False}"
      ]
     },
     "execution_count": 57,
     "metadata": {},
     "output_type": "execute_result"
    }
   ],
   "source": [
    "# print stats\n",
    "lasso_reg_result = {'n_iter':lasso_reg.n_iter_,\n",
    "\"coefficient\":lasso_reg.coef_,\n",
    "\"dual gap\":lasso_reg.dual_gap_,\n",
    "\"intercept\":lasso_reg.intercept_}\n",
    "for k,v in lasso_reg_result.items():\n",
    "    print(f\"{k} - {v}\")\n",
    "lasso_reg.get_params()"
   ]
  },
  {
   "cell_type": "code",
   "execution_count": 58,
   "metadata": {},
   "outputs": [],
   "source": [
    "# plot learning curve\n",
    "# reference of getting learning curve, https://www.kaggle.com/code/janiobachmann/credit-fraud-dealing-with-imbalanced-datasets\n",
    "# np.linspace(start, stop, num=50), return evenly spaced numbers over a specified interval\n",
    "# fill_between is to fill the area between two horizontal curves\n",
    "def plot_learning_curve(estimator_name, estimator, X, y, ylim=None, cv=None, n_jobs=1, train_sizes = np.linspace(.1, 1.0, 5)):\n",
    "    f, ax = plt.subplots()\n",
    "    if ylim is not None:\n",
    "        plt.ylim(*ylim)\n",
    "    # notes of learning_curve()\n",
    "    # how to evaluate results?\n",
    "    ### for regression, scorer is R^2\n",
    "    ### for classification, scorer is accuracy\n",
    "    # return from the function\n",
    "    ### train_sizes_abs, array of shape, number of training examples that has been used to generate the learning curve\n",
    "    ### train_scores, scores on training set\n",
    "    ### test_scores, scores on test set\n",
    "    train_sizes, train_scores, test_scores = learning_curve(estimator, X, y, cv=cv, n_jobs=n_jobs, train_sizes=train_sizes)\n",
    "    # It's calculating for each training size, the average score of the relevant cross-validation batch\n",
    "    # for example, cv's n_splits is 100, and train_sizes is 46 (relatively 12 test examples). \n",
    "    # then we will see 100 scores,each is based on a random shuffle of total 58 examples, in which 46 training set and 12 test set. \n",
    "    train_scores_mean = np.mean(train_scores, axis=1)   \n",
    "    test_scores_mean = np.mean(test_scores, axis=1)\n",
    "    train_scores_std = np.std(train_scores, axis=1)\n",
    "    test_scores_std = np.std(test_scores, axis=1)\n",
    "\n",
    "    # https://matplotlib.org/stable/api/_as_gen/matplotlib.pyplot.fill_between.html\n",
    "    ax.fill_between(train_sizes, test_scores_mean - train_scores_std, train_scores_mean + train_scores_std, alpha=0.1, color=\"#ff9124\")\n",
    "    ax.fill_between(train_sizes, test_scores_mean - test_scores_std, test_scores_mean + test_scores_std, alpha=0.1, color=\"#2492ff\")\n",
    "    ax.plot(train_sizes, train_scores_mean, 'o-', color=\"#ff9124\", label=\"Training score\")\n",
    "    ax.plot(train_sizes, test_scores_mean, 'o-', color=\"#2492ff\",label=\"Cross-validation score\")\n",
    "    ax.set_title(f\"{estimator_name} Learning Curve\", fontsize=14)\n",
    "    ax.set_xlabel('Training size')\n",
    "    ax.set_ylabel('Score')\n",
    "    ax.grid(True)\n",
    "    ax.legend(loc=\"best\")\n",
    "    return plt"
   ]
  },
  {
   "cell_type": "code",
   "execution_count": 59,
   "metadata": {},
   "outputs": [
    {
     "data": {
      "text/plain": [
       "<module 'matplotlib.pyplot' from 'E:\\\\Projects\\\\Envs\\\\Repo\\\\lib\\\\site-packages\\\\matplotlib\\\\pyplot.py'>"
      ]
     },
     "execution_count": 59,
     "metadata": {},
     "output_type": "execute_result"
    },
    {
     "data": {
      "image/png": "[encoded data removed]",
      "text/plain": [
       "<Figure size 432x288 with 1 Axes>"
      ]
     },
     "metadata": {
      "needs_background": "light"
     },
     "output_type": "display_data"
    }
   ],
   "source": [
    "# https://scikit-learn.org/stable/modules/generated/sklearn.model_selection.ShuffleSplit.html\n",
    "# cv returns cross-validation generator, which is an generator of train_index and test_index\n",
    "cv = ShuffleSplit(n_splits=100, test_size=0.2, random_state=42)\n",
    "plot_learning_curve(\"Lasso\",lasso_reg, X_train, y_train, cv=cv, n_jobs=1)"
   ]
  },
  {
   "cell_type": "code",
   "execution_count": 60,
   "metadata": {},
   "outputs": [],
   "source": [
    "# export model\n",
    "import pickle\n",
    "filename = './model/bike_lasso.sav'\n",
    "pickle.dump(lasso_reg, open(filename,'wb'))\n",
    "\n",
    "# how to load model\n",
    "# loaded_model = pickle.load(open(filename,'rb'))\n",
    "# pred = loaded_model.score(X, y)\n",
    "# print(pred)"
   ]
  }
 ],
 "metadata": {
  "interpreter": {
   "hash": "372069175a0815a403ba05bb19f22c25fd3b75178eecf63901e8eccf1e1781f3"
  },
  "kernelspec": {
   "display_name": "Python 3.7.0 ('Repo')",
   "language": "python",
   "name": "python3"
  },
  "language_info": {
   "codemirror_mode": {
    "name": "ipython",
    "version": 3
   },
   "file_extension": ".py",
   "mimetype": "text/x-python",
   "name": "python",
   "nbconvert_exporter": "python",
   "pygments_lexer": "ipython3",
   "version": "3.7.0"
  },
  "orig_nbformat": 4
 },
 "nbformat": 4,
 "nbformat_minor": 2
}
