{
 "cells": [
  {
   "cell_type": "code",
   "execution_count": 2,
   "metadata": {},
   "outputs": [],
   "source": [
    "import pandas as pd\n",
    "import numpy as np\n",
    "import os\n",
    "import matplotlib.pyplot as plt\n",
    "import seaborn as sns\n",
    "from lib.util_ml_helpers import *\n",
    "\n",
    "# set up plotting theme and configurations\n",
    "plt.style.use('ggplot')\n",
    "pd.options.display.max_columns = 100\n",
    "pd.options.display.max_rows = 100"
   ]
  },
  {
   "cell_type": "code",
   "execution_count": 3,
   "metadata": {},
   "outputs": [
    {
     "data": {
      "text/html": [
       "<div>\n",
       "<style scoped>\n",
       "    .dataframe tbody tr th:only-of-type {\n",
       "        vertical-align: middle;\n",
       "    }\n",
       "\n",
       "    .dataframe tbody tr th {\n",
       "        vertical-align: top;\n",
       "    }\n",
       "\n",
       "    .dataframe thead th {\n",
       "        text-align: right;\n",
       "    }\n",
       "</style>\n",
       "<table border=\"1\" class=\"dataframe\">\n",
       "  <thead>\n",
       "    <tr style=\"text-align: right;\">\n",
       "      <th></th>\n",
       "      <th>Age</th>\n",
       "      <th>Number.of.sexual.partners</th>\n",
       "      <th>First.sexual.intercourse</th>\n",
       "      <th>Num.of.pregnancies</th>\n",
       "      <th>Smokes</th>\n",
       "      <th>Smokes..years.</th>\n",
       "      <th>Hormonal.Contraceptives</th>\n",
       "      <th>Hormonal.Contraceptives..years.</th>\n",
       "      <th>IUD</th>\n",
       "      <th>IUD..years.</th>\n",
       "      <th>STDs</th>\n",
       "      <th>STDs..number.</th>\n",
       "      <th>STDs..Number.of.diagnosis</th>\n",
       "      <th>STDs..Time.since.first.diagnosis</th>\n",
       "      <th>STDs..Time.since.last.diagnosis</th>\n",
       "      <th>Biopsy</th>\n",
       "    </tr>\n",
       "  </thead>\n",
       "  <tbody>\n",
       "    <tr>\n",
       "      <th>0</th>\n",
       "      <td>18</td>\n",
       "      <td>4</td>\n",
       "      <td>15</td>\n",
       "      <td>1</td>\n",
       "      <td>0</td>\n",
       "      <td>0.0</td>\n",
       "      <td>0</td>\n",
       "      <td>0.0</td>\n",
       "      <td>0</td>\n",
       "      <td>0.0</td>\n",
       "      <td>0</td>\n",
       "      <td>0</td>\n",
       "      <td>0</td>\n",
       "      <td>1</td>\n",
       "      <td>1</td>\n",
       "      <td>Healthy</td>\n",
       "    </tr>\n",
       "    <tr>\n",
       "      <th>1</th>\n",
       "      <td>15</td>\n",
       "      <td>1</td>\n",
       "      <td>14</td>\n",
       "      <td>1</td>\n",
       "      <td>0</td>\n",
       "      <td>0.0</td>\n",
       "      <td>0</td>\n",
       "      <td>0.0</td>\n",
       "      <td>0</td>\n",
       "      <td>0.0</td>\n",
       "      <td>0</td>\n",
       "      <td>0</td>\n",
       "      <td>0</td>\n",
       "      <td>1</td>\n",
       "      <td>1</td>\n",
       "      <td>Healthy</td>\n",
       "    </tr>\n",
       "    <tr>\n",
       "      <th>2</th>\n",
       "      <td>34</td>\n",
       "      <td>1</td>\n",
       "      <td>15</td>\n",
       "      <td>1</td>\n",
       "      <td>0</td>\n",
       "      <td>0.0</td>\n",
       "      <td>0</td>\n",
       "      <td>0.0</td>\n",
       "      <td>0</td>\n",
       "      <td>0.0</td>\n",
       "      <td>0</td>\n",
       "      <td>0</td>\n",
       "      <td>0</td>\n",
       "      <td>1</td>\n",
       "      <td>1</td>\n",
       "      <td>Healthy</td>\n",
       "    </tr>\n",
       "    <tr>\n",
       "      <th>3</th>\n",
       "      <td>52</td>\n",
       "      <td>5</td>\n",
       "      <td>16</td>\n",
       "      <td>4</td>\n",
       "      <td>1</td>\n",
       "      <td>37.0</td>\n",
       "      <td>1</td>\n",
       "      <td>3.0</td>\n",
       "      <td>0</td>\n",
       "      <td>0.0</td>\n",
       "      <td>0</td>\n",
       "      <td>0</td>\n",
       "      <td>0</td>\n",
       "      <td>1</td>\n",
       "      <td>1</td>\n",
       "      <td>Healthy</td>\n",
       "    </tr>\n",
       "    <tr>\n",
       "      <th>4</th>\n",
       "      <td>46</td>\n",
       "      <td>3</td>\n",
       "      <td>21</td>\n",
       "      <td>4</td>\n",
       "      <td>0</td>\n",
       "      <td>0.0</td>\n",
       "      <td>1</td>\n",
       "      <td>15.0</td>\n",
       "      <td>0</td>\n",
       "      <td>0.0</td>\n",
       "      <td>0</td>\n",
       "      <td>0</td>\n",
       "      <td>0</td>\n",
       "      <td>1</td>\n",
       "      <td>1</td>\n",
       "      <td>Healthy</td>\n",
       "    </tr>\n",
       "  </tbody>\n",
       "</table>\n",
       "</div>"
      ],
      "text/plain": [
       "   Age  Number.of.sexual.partners  First.sexual.intercourse  \\\n",
       "0   18                          4                        15   \n",
       "1   15                          1                        14   \n",
       "2   34                          1                        15   \n",
       "3   52                          5                        16   \n",
       "4   46                          3                        21   \n",
       "\n",
       "   Num.of.pregnancies  Smokes  Smokes..years.  Hormonal.Contraceptives  \\\n",
       "0                   1       0             0.0                        0   \n",
       "1                   1       0             0.0                        0   \n",
       "2                   1       0             0.0                        0   \n",
       "3                   4       1            37.0                        1   \n",
       "4                   4       0             0.0                        1   \n",
       "\n",
       "   Hormonal.Contraceptives..years.  IUD  IUD..years.  STDs  STDs..number.  \\\n",
       "0                              0.0    0          0.0     0              0   \n",
       "1                              0.0    0          0.0     0              0   \n",
       "2                              0.0    0          0.0     0              0   \n",
       "3                              3.0    0          0.0     0              0   \n",
       "4                             15.0    0          0.0     0              0   \n",
       "\n",
       "   STDs..Number.of.diagnosis  STDs..Time.since.first.diagnosis  \\\n",
       "0                          0                                 1   \n",
       "1                          0                                 1   \n",
       "2                          0                                 1   \n",
       "3                          0                                 1   \n",
       "4                          0                                 1   \n",
       "\n",
       "   STDs..Time.since.last.diagnosis   Biopsy  \n",
       "0                                1  Healthy  \n",
       "1                                1  Healthy  \n",
       "2                                1  Healthy  \n",
       "3                                1  Healthy  \n",
       "4                                1  Healthy  "
      ]
     },
     "execution_count": 3,
     "metadata": {},
     "output_type": "execute_result"
    }
   ],
   "source": [
    "# data snapshot\n",
    "cancer_df = pd.read_csv('./data/cervical.csv')\n",
    "cancer_df.head(5)"
   ]
  },
  {
   "cell_type": "code",
   "execution_count": 4,
   "metadata": {},
   "outputs": [],
   "source": [
    "# update column name\n",
    "cancer_df.columns = ['age','num_of_sex_partners','first_sex','num_of_pregn'\\\n",
    "    ,'smokes','smokes_yrs','hormonal_contrpt','hormonal_contrpt_yrs','iud'\\\n",
    "    ,'iud_yrs','stds','stds_num','stds_num_diagn','stds_time_since_1diagn'\\\n",
    "    ,'stds_time_since_ldiagn','biopsy']\n",
    "cancer_df.reset_index(drop=False, inplace=True)\n",
    "cancer_df.rename(columns={\"index\":\"rowID\"},inplace=True)"
   ]
  },
  {
   "cell_type": "code",
   "execution_count": 5,
   "metadata": {},
   "outputs": [
    {
     "data": {
      "text/html": [
       "<div>\n",
       "<style scoped>\n",
       "    .dataframe tbody tr th:only-of-type {\n",
       "        vertical-align: middle;\n",
       "    }\n",
       "\n",
       "    .dataframe tbody tr th {\n",
       "        vertical-align: top;\n",
       "    }\n",
       "\n",
       "    .dataframe thead th {\n",
       "        text-align: right;\n",
       "    }\n",
       "</style>\n",
       "<table border=\"1\" class=\"dataframe\">\n",
       "  <thead>\n",
       "    <tr style=\"text-align: right;\">\n",
       "      <th></th>\n",
       "      <th>n_of_nulls</th>\n",
       "      <th>row_counts</th>\n",
       "      <th>unique_values</th>\n",
       "      <th>dtypes</th>\n",
       "      <th>min_value</th>\n",
       "      <th>mean</th>\n",
       "      <th>max_value</th>\n",
       "      <th>std</th>\n",
       "      <th>25%</th>\n",
       "      <th>50%</th>\n",
       "      <th>75%</th>\n",
       "      <th>unique_items</th>\n",
       "    </tr>\n",
       "  </thead>\n",
       "  <tbody>\n",
       "    <tr>\n",
       "      <th>rowID</th>\n",
       "      <td>0</td>\n",
       "      <td>858</td>\n",
       "      <td>858</td>\n",
       "      <td>int64</td>\n",
       "      <td>0.0</td>\n",
       "      <td>428.500000</td>\n",
       "      <td>857.0</td>\n",
       "      <td>247.827561</td>\n",
       "      <td>214.25</td>\n",
       "      <td>428.50</td>\n",
       "      <td>642.75</td>\n",
       "      <td>NaN</td>\n",
       "    </tr>\n",
       "    <tr>\n",
       "      <th>age</th>\n",
       "      <td>0</td>\n",
       "      <td>858</td>\n",
       "      <td>44</td>\n",
       "      <td>int64</td>\n",
       "      <td>13.0</td>\n",
       "      <td>26.820513</td>\n",
       "      <td>84.0</td>\n",
       "      <td>8.497948</td>\n",
       "      <td>20.00</td>\n",
       "      <td>25.00</td>\n",
       "      <td>32.00</td>\n",
       "      <td>NaN</td>\n",
       "    </tr>\n",
       "    <tr>\n",
       "      <th>num_of_sex_partners</th>\n",
       "      <td>0</td>\n",
       "      <td>858</td>\n",
       "      <td>12</td>\n",
       "      <td>int64</td>\n",
       "      <td>1.0</td>\n",
       "      <td>2.511655</td>\n",
       "      <td>28.0</td>\n",
       "      <td>1.644759</td>\n",
       "      <td>2.00</td>\n",
       "      <td>2.00</td>\n",
       "      <td>3.00</td>\n",
       "      <td>NaN</td>\n",
       "    </tr>\n",
       "    <tr>\n",
       "      <th>first_sex</th>\n",
       "      <td>0</td>\n",
       "      <td>858</td>\n",
       "      <td>21</td>\n",
       "      <td>int64</td>\n",
       "      <td>10.0</td>\n",
       "      <td>16.979021</td>\n",
       "      <td>32.0</td>\n",
       "      <td>2.797653</td>\n",
       "      <td>15.00</td>\n",
       "      <td>17.00</td>\n",
       "      <td>18.00</td>\n",
       "      <td>NaN</td>\n",
       "    </tr>\n",
       "    <tr>\n",
       "      <th>num_of_pregn</th>\n",
       "      <td>0</td>\n",
       "      <td>858</td>\n",
       "      <td>11</td>\n",
       "      <td>int64</td>\n",
       "      <td>0.0</td>\n",
       "      <td>2.192308</td>\n",
       "      <td>11.0</td>\n",
       "      <td>1.434395</td>\n",
       "      <td>1.00</td>\n",
       "      <td>2.00</td>\n",
       "      <td>3.00</td>\n",
       "      <td>NaN</td>\n",
       "    </tr>\n",
       "    <tr>\n",
       "      <th>smokes</th>\n",
       "      <td>0</td>\n",
       "      <td>858</td>\n",
       "      <td>2</td>\n",
       "      <td>int64</td>\n",
       "      <td>0.0</td>\n",
       "      <td>0.143357</td>\n",
       "      <td>1.0</td>\n",
       "      <td>0.350641</td>\n",
       "      <td>0.00</td>\n",
       "      <td>0.00</td>\n",
       "      <td>0.00</td>\n",
       "      <td>NaN</td>\n",
       "    </tr>\n",
       "    <tr>\n",
       "      <th>smokes_yrs</th>\n",
       "      <td>0</td>\n",
       "      <td>858</td>\n",
       "      <td>30</td>\n",
       "      <td>float64</td>\n",
       "      <td>0.0</td>\n",
       "      <td>1.201241</td>\n",
       "      <td>37.0</td>\n",
       "      <td>4.060623</td>\n",
       "      <td>0.00</td>\n",
       "      <td>0.00</td>\n",
       "      <td>0.00</td>\n",
       "      <td>NaN</td>\n",
       "    </tr>\n",
       "    <tr>\n",
       "      <th>hormonal_contrpt</th>\n",
       "      <td>0</td>\n",
       "      <td>858</td>\n",
       "      <td>2</td>\n",
       "      <td>int64</td>\n",
       "      <td>0.0</td>\n",
       "      <td>0.686480</td>\n",
       "      <td>1.0</td>\n",
       "      <td>0.464194</td>\n",
       "      <td>0.00</td>\n",
       "      <td>1.00</td>\n",
       "      <td>1.00</td>\n",
       "      <td>NaN</td>\n",
       "    </tr>\n",
       "    <tr>\n",
       "      <th>hormonal_contrpt_yrs</th>\n",
       "      <td>0</td>\n",
       "      <td>858</td>\n",
       "      <td>40</td>\n",
       "      <td>float64</td>\n",
       "      <td>0.0</td>\n",
       "      <td>1.972394</td>\n",
       "      <td>30.0</td>\n",
       "      <td>3.597888</td>\n",
       "      <td>0.00</td>\n",
       "      <td>0.25</td>\n",
       "      <td>2.00</td>\n",
       "      <td>NaN</td>\n",
       "    </tr>\n",
       "    <tr>\n",
       "      <th>iud</th>\n",
       "      <td>0</td>\n",
       "      <td>858</td>\n",
       "      <td>2</td>\n",
       "      <td>int64</td>\n",
       "      <td>0.0</td>\n",
       "      <td>0.096737</td>\n",
       "      <td>1.0</td>\n",
       "      <td>0.295771</td>\n",
       "      <td>0.00</td>\n",
       "      <td>0.00</td>\n",
       "      <td>0.00</td>\n",
       "      <td>NaN</td>\n",
       "    </tr>\n",
       "    <tr>\n",
       "      <th>iud_yrs</th>\n",
       "      <td>0</td>\n",
       "      <td>858</td>\n",
       "      <td>26</td>\n",
       "      <td>float64</td>\n",
       "      <td>0.0</td>\n",
       "      <td>0.444604</td>\n",
       "      <td>19.0</td>\n",
       "      <td>1.814218</td>\n",
       "      <td>0.00</td>\n",
       "      <td>0.00</td>\n",
       "      <td>0.00</td>\n",
       "      <td>NaN</td>\n",
       "    </tr>\n",
       "    <tr>\n",
       "      <th>stds</th>\n",
       "      <td>0</td>\n",
       "      <td>858</td>\n",
       "      <td>2</td>\n",
       "      <td>int64</td>\n",
       "      <td>0.0</td>\n",
       "      <td>0.092075</td>\n",
       "      <td>1.0</td>\n",
       "      <td>0.289300</td>\n",
       "      <td>0.00</td>\n",
       "      <td>0.00</td>\n",
       "      <td>0.00</td>\n",
       "      <td>NaN</td>\n",
       "    </tr>\n",
       "    <tr>\n",
       "      <th>stds_num</th>\n",
       "      <td>0</td>\n",
       "      <td>858</td>\n",
       "      <td>5</td>\n",
       "      <td>int64</td>\n",
       "      <td>0.0</td>\n",
       "      <td>0.155012</td>\n",
       "      <td>4.0</td>\n",
       "      <td>0.529617</td>\n",
       "      <td>0.00</td>\n",
       "      <td>0.00</td>\n",
       "      <td>0.00</td>\n",
       "      <td>NaN</td>\n",
       "    </tr>\n",
       "    <tr>\n",
       "      <th>stds_num_diagn</th>\n",
       "      <td>0</td>\n",
       "      <td>858</td>\n",
       "      <td>4</td>\n",
       "      <td>int64</td>\n",
       "      <td>0.0</td>\n",
       "      <td>0.087413</td>\n",
       "      <td>3.0</td>\n",
       "      <td>0.302545</td>\n",
       "      <td>0.00</td>\n",
       "      <td>0.00</td>\n",
       "      <td>0.00</td>\n",
       "      <td>NaN</td>\n",
       "    </tr>\n",
       "    <tr>\n",
       "      <th>stds_time_since_1diagn</th>\n",
       "      <td>0</td>\n",
       "      <td>858</td>\n",
       "      <td>18</td>\n",
       "      <td>int64</td>\n",
       "      <td>1.0</td>\n",
       "      <td>1.425408</td>\n",
       "      <td>22.0</td>\n",
       "      <td>2.201550</td>\n",
       "      <td>1.00</td>\n",
       "      <td>1.00</td>\n",
       "      <td>1.00</td>\n",
       "      <td>NaN</td>\n",
       "    </tr>\n",
       "    <tr>\n",
       "      <th>stds_time_since_ldiagn</th>\n",
       "      <td>0</td>\n",
       "      <td>858</td>\n",
       "      <td>18</td>\n",
       "      <td>int64</td>\n",
       "      <td>1.0</td>\n",
       "      <td>1.398601</td>\n",
       "      <td>22.0</td>\n",
       "      <td>2.113931</td>\n",
       "      <td>1.00</td>\n",
       "      <td>1.00</td>\n",
       "      <td>1.00</td>\n",
       "      <td>NaN</td>\n",
       "    </tr>\n",
       "    <tr>\n",
       "      <th>biopsy</th>\n",
       "      <td>0</td>\n",
       "      <td>858</td>\n",
       "      <td>2</td>\n",
       "      <td>object</td>\n",
       "      <td>NaN</td>\n",
       "      <td>NaN</td>\n",
       "      <td>NaN</td>\n",
       "      <td>NaN</td>\n",
       "      <td>NaN</td>\n",
       "      <td>NaN</td>\n",
       "      <td>NaN</td>\n",
       "      <td>Healthy, Cancer</td>\n",
       "    </tr>\n",
       "  </tbody>\n",
       "</table>\n",
       "</div>"
      ],
      "text/plain": [
       "                        n_of_nulls  row_counts  unique_values   dtypes  \\\n",
       "rowID                            0         858            858    int64   \n",
       "age                              0         858             44    int64   \n",
       "num_of_sex_partners              0         858             12    int64   \n",
       "first_sex                        0         858             21    int64   \n",
       "num_of_pregn                     0         858             11    int64   \n",
       "smokes                           0         858              2    int64   \n",
       "smokes_yrs                       0         858             30  float64   \n",
       "hormonal_contrpt                 0         858              2    int64   \n",
       "hormonal_contrpt_yrs             0         858             40  float64   \n",
       "iud                              0         858              2    int64   \n",
       "iud_yrs                          0         858             26  float64   \n",
       "stds                             0         858              2    int64   \n",
       "stds_num                         0         858              5    int64   \n",
       "stds_num_diagn                   0         858              4    int64   \n",
       "stds_time_since_1diagn           0         858             18    int64   \n",
       "stds_time_since_ldiagn           0         858             18    int64   \n",
       "biopsy                           0         858              2   object   \n",
       "\n",
       "                        min_value        mean  max_value         std     25%  \\\n",
       "rowID                         0.0  428.500000      857.0  247.827561  214.25   \n",
       "age                          13.0   26.820513       84.0    8.497948   20.00   \n",
       "num_of_sex_partners           1.0    2.511655       28.0    1.644759    2.00   \n",
       "first_sex                    10.0   16.979021       32.0    2.797653   15.00   \n",
       "num_of_pregn                  0.0    2.192308       11.0    1.434395    1.00   \n",
       "smokes                        0.0    0.143357        1.0    0.350641    0.00   \n",
       "smokes_yrs                    0.0    1.201241       37.0    4.060623    0.00   \n",
       "hormonal_contrpt              0.0    0.686480        1.0    0.464194    0.00   \n",
       "hormonal_contrpt_yrs          0.0    1.972394       30.0    3.597888    0.00   \n",
       "iud                           0.0    0.096737        1.0    0.295771    0.00   \n",
       "iud_yrs                       0.0    0.444604       19.0    1.814218    0.00   \n",
       "stds                          0.0    0.092075        1.0    0.289300    0.00   \n",
       "stds_num                      0.0    0.155012        4.0    0.529617    0.00   \n",
       "stds_num_diagn                0.0    0.087413        3.0    0.302545    0.00   \n",
       "stds_time_since_1diagn        1.0    1.425408       22.0    2.201550    1.00   \n",
       "stds_time_since_ldiagn        1.0    1.398601       22.0    2.113931    1.00   \n",
       "biopsy                        NaN         NaN        NaN         NaN     NaN   \n",
       "\n",
       "                           50%     75%     unique_items  \n",
       "rowID                   428.50  642.75              NaN  \n",
       "age                      25.00   32.00              NaN  \n",
       "num_of_sex_partners       2.00    3.00              NaN  \n",
       "first_sex                17.00   18.00              NaN  \n",
       "num_of_pregn              2.00    3.00              NaN  \n",
       "smokes                    0.00    0.00              NaN  \n",
       "smokes_yrs                0.00    0.00              NaN  \n",
       "hormonal_contrpt          1.00    1.00              NaN  \n",
       "hormonal_contrpt_yrs      0.25    2.00              NaN  \n",
       "iud                       0.00    0.00              NaN  \n",
       "iud_yrs                   0.00    0.00              NaN  \n",
       "stds                      0.00    0.00              NaN  \n",
       "stds_num                  0.00    0.00              NaN  \n",
       "stds_num_diagn            0.00    0.00              NaN  \n",
       "stds_time_since_1diagn    1.00    1.00              NaN  \n",
       "stds_time_since_ldiagn    1.00    1.00              NaN  \n",
       "biopsy                     NaN     NaN  Healthy, Cancer  "
      ]
     },
     "execution_count": 5,
     "metadata": {},
     "output_type": "execute_result"
    }
   ],
   "source": [
    "# data ditionary\n",
    "# get a sense of our data\n",
    "dict_df = generate_dict(cancer_df)\n",
    "dict_df"
   ]
  },
  {
   "cell_type": "code",
   "execution_count": 6,
   "metadata": {},
   "outputs": [
    {
     "name": "stdout",
     "output_type": "stream",
     "text": [
      "    biopsy  rowID       pct\n",
      "0   Cancer     55  0.064103\n",
      "1  Healthy    803  0.935897\n"
     ]
    }
   ],
   "source": [
    "# response distribution\n",
    "# it shows that it's a highly imbalanced data set\n",
    "resp_dist = cancer_df.groupby(\"biopsy\").agg({'rowID':len}).reset_index(drop=False)\n",
    "resp_dist['pct'] = resp_dist['rowID'] / resp_dist['rowID'].sum()\n",
    "print(resp_dist)"
   ]
  },
  {
   "cell_type": "markdown",
   "metadata": {},
   "source": [
    "</h3><b>EDA starts here</b></h3>"
   ]
  },
  {
   "cell_type": "code",
   "execution_count": 7,
   "metadata": {},
   "outputs": [
    {
     "name": "stdout",
     "output_type": "stream",
     "text": [
      "Column smokes having the following values: 0,1\n",
      "Column num_of_sex_partners having the following values: 1,2,3,4,5,6,7,8,9,10,15,28\n",
      "Column num_of_pregn having the following values: 0,1,2,3,4,5,6,7,8,10,11\n",
      "Column hormonal_contrpt having the following values: 0,1\n",
      "Column iud having the following values: 0,1\n",
      "Column stds having the following values: 0,1\n",
      "Column stds_num having the following values: 0,1,2,3,4\n",
      "Column stds_num_diagn having the following values: 0,1,2,3\n"
     ]
    }
   ],
   "source": [
    "# organise our columns into different category\n",
    "cols_cat = {\n",
    "    'num':['age','first_sex','smokes_yrs','hormonal_contrpt_yrs','iud_yrs','stds_time_since_1diagn','stds_time_since_ldiagn']\\\n",
    "    ,'ordinal':['smokes','num_of_sex_partners','num_of_pregn','hormonal_contrpt','iud','stds','stds_num','stds_num_diagn']\\\n",
    "    ,'cat':[]\n",
    "    ,'resp':['biopsy']\n",
    "}\n",
    "for item in cols_cat.get('ordinal'):\n",
    "    print(\"Column \" + item + \" having the following values: \" + \",\".join([str(e) for e in cancer_df[item].sort_values().unique()]))"
   ]
  },
  {
   "cell_type": "markdown",
   "metadata": {},
   "source": [
    "<h5>Imbalanced data</h5>\n",
    "<p>We have 6% of observations having cancer while the rest are not. The distribution tells us that it's an imbalanced data.</p>"
   ]
  },
  {
   "cell_type": "code",
   "execution_count": 8,
   "metadata": {},
   "outputs": [
    {
     "name": "stdout",
     "output_type": "stream",
     "text": [
      "smokes is not significant\n",
      "num_of_sex_partners is not significant\n",
      "num_of_pregn is not significant\n",
      "hormonal_contrpt is not significant\n",
      "iud is not significant\n",
      "ordinal columns that are significant to response: stds,stds_num,stds_num_diagn\n"
     ]
    }
   ],
   "source": [
    "# find ordinal variables that are significant to response\n",
    "feature_ord_cols = list()\n",
    "for item in cols_cat.get('ordinal'):\n",
    "    if chisquare_test(cancer_df, item, \"biopsy\", significant_flag=True):\n",
    "        feature_ord_cols.append(item)\n",
    "    else:\n",
    "        print(item + \" is not significant\")\n",
    "print(\"ordinal columns that are significant to response: \" + \",\".join(feature_ord_cols))"
   ]
  },
  {
   "cell_type": "code",
   "execution_count": 9,
   "metadata": {},
   "outputs": [
    {
     "name": "stdout",
     "output_type": "stream",
     "text": [
      "age is not significant\n",
      "first_sex is not significant\n",
      "smokes_yrs is not significant\n",
      "iud_yrs is not significant\n",
      "stds_time_since_1diagn is not significant\n",
      "stds_time_since_ldiagn is not significant\n",
      "numerical columns that are significant to response: hormonal_contrpt_yrs\n"
     ]
    }
   ],
   "source": [
    "from scipy.stats import ttest_ind\n",
    "# find numerical variables that are significant to response\n",
    "def t_test(df, col_x, col_y, thres=0.05, significant_flag=True, **kwargs):\n",
    "    \"\"\" the function is to test the col_x on col_y whether there is any statistical different on col_x for the two populations. Can only be used between numerical variables col_x on categorical col_y\n",
    "    :Args:\n",
    "        - df, dataframe\n",
    "        - col_x, str, the column we want to prove that has no significance to col_y\n",
    "        - col_y, str, response column\n",
    "        - thres, float, the confidence interval\n",
    "        - significant_flag, bool, do we want to return decision of statistical significance or not\n",
    "        - **kwargs, any parameters used by scipy.stats.ttest_ind\n",
    "    :Returns:\n",
    "        - bool, can we reject our null hypothesis that col_x has no impact on col_y\n",
    "    \"\"\"\n",
    "    \n",
    "    assert df[col_y].nunique() == 2, f'{col_y} has more than 2 unique values'\n",
    "    try:\n",
    "        uni_y = df[col_y].unique()\n",
    "        t_stats, p = ttest_ind(df[df[col_y] == uni_y[0]][col_x].to_numpy()\\\n",
    "            , df[df[col_y] == uni_y[1]][col_x].to_numpy(), **kwargs)\n",
    "        # if significant_flag is true, just return bool else return p-value\n",
    "        if significant_flag:\n",
    "            return True if p <= thres else False\n",
    "        else:\n",
    "            return p\n",
    "    except Exception as e:\n",
    "        print(e)\n",
    "\n",
    "feature_num_cols = list()\n",
    "for item in cols_cat.get('num'):\n",
    "    if t_test(cancer_df, item, \"biopsy\", thres=0.05, significant_flag=True, equal_var=True):\n",
    "        feature_num_cols.append(item)\n",
    "    else:\n",
    "        print(item + \" is not significant\")\n",
    "    # print(item + \" p-value is \" + str(t_test(cancer_df, item, \"biopsy\", significant_flag=False)))\n",
    "print(\"numerical columns that are significant to response: \" + \",\".join(feature_num_cols))\n",
    "    "
   ]
  },
  {
   "cell_type": "code",
   "execution_count": 10,
   "metadata": {},
   "outputs": [],
   "source": [
    "# combine features\n",
    "# and make response as ordinal variable\n",
    "feature_cols = feature_num_cols + feature_ord_cols\n",
    "cancer_df['resp'] = cancer_df['biopsy'].apply(lambda x: 0 if x == \"Healthy\" else 1)"
   ]
  },
  {
   "cell_type": "markdown",
   "metadata": {},
   "source": [
    "<h3>Modelling</h3>\n",
    "<p>We want to experiment Logistic Regression as the baseline, Boost Tree (Goss). Comparing to random forest will lead us to a better model for this problem.</p>\n",
    "<p><b>consideration 1: </b>based on previous EDA piece, we found that features are not really normally distributed. Hence Naive Bayes wouldn't be a good algorithm for us. </p>\n",
    "<p><b>consideration 2: </b>given that labels' distribution is imbalanced, we need to adjust class weights. <u>We want to penalise the misclassification made by minority class by setting a higher class weight and reducing weight for the majority class</u>\n",
    "    <ul>\n",
    "        <li><a href=\"https://towardsdatascience.com/class-weights-for-categorical-loss-1a4c79818c2d\">Reference 1 - class weights derivative</a></li>\n",
    "        <li><a href=\"https://towardsdatascience.com/weighted-logistic-regression-for-imbalanced-dataset-9a5cd88e68b\">Reference 2 - class weights grid search</a></li>\n",
    "        <li><a href=\"https://web.stanford.edu/~jurafsky/slp3/5.pdf\">Reference 3 - logistic regression</a></li>\n",
    "    </ul>\n",
    "</p>\n",
    "<p><b>consideration 3: </b>LogisticRegression prefer normalised data when apply gradient descent.</p>"
   ]
  },
  {
   "cell_type": "code",
   "execution_count": 11,
   "metadata": {},
   "outputs": [],
   "source": [
    "import math\n",
    "from sklearn.model_selection import train_test_split, GridSearchCV, ShuffleSplit\n",
    "from sklearn.linear_model import LogisticRegression\n",
    "from sklearn.metrics import make_scorer, mean_absolute_error, f1_score, recall_score, precision_score, confusion_matrix, accuracy_score,roc_auc_score, roc_curve"
   ]
  },
  {
   "cell_type": "code",
   "execution_count": 12,
   "metadata": {},
   "outputs": [
    {
     "name": "stdout",
     "output_type": "stream",
     "text": [
      "details of data:\n",
      "holdout group size 172, 20.0% \n",
      "and train/test group size 686, 80.0%\n",
      "\n"
     ]
    }
   ],
   "source": [
    "# train and test split\n",
    "split_state = 25\n",
    "X_train, X_test, y_train, y_test = train_test_split(cancer_df[feature_cols].to_numpy(), cancer_df['resp'].to_numpy(), random_state=split_state, test_size=0.2)\n",
    "print(f\"\"\"details of data:\n",
    "holdout group size {len(X_test)}, {np.round(len(X_test)/len(cancer_df),2) * 100}% \n",
    "and train/test group size {len(X_train)}, {np.round(len(X_train)/len(cancer_df),2) * 100}%\n",
    "\"\"\")"
   ]
  },
  {
   "cell_type": "code",
   "execution_count": 13,
   "metadata": {},
   "outputs": [
    {
     "name": "stdout",
     "output_type": "stream",
     "text": [
      "{1: 7.8, 0: 0.5342465753424658}\n"
     ]
    }
   ],
   "source": [
    "# given it's an imbalanced dataset, we set up class weight\n",
    "#\n",
    "minority_rec = 55\n",
    "majority_rec = 803\n",
    "total_rec = minority_rec + majority_rec\n",
    "adj_class_weight = {1:0.5 * total_rec / minority_rec , 0:0.5 * total_rec / majority_rec}\n",
    "print(adj_class_weight)"
   ]
  },
  {
   "cell_type": "markdown",
   "metadata": {},
   "source": [
    "<h5>Logistic Regression Training</h5>\n",
    "<p>We will include</p>\n",
    "<ul>\n",
    "    <li>Grid Search Cross Validation on best parameters for class weight and L2 regularisation</li>\n",
    "    <li>Calculate Feature Importance for Logistic Regression</li>\n",
    "</ul>"
   ]
  },
  {
   "cell_type": "code",
   "execution_count": 14,
   "metadata": {},
   "outputs": [
    {
     "name": "stdout",
     "output_type": "stream",
     "text": [
      "model parameters\n",
      "C:1\n",
      "class_weight:{1: 7, 0: 1}\n",
      "dual:False\n",
      "fit_intercept:1\n",
      "intercept_scaling:1\n",
      "l1_ratio:None\n",
      "max_iter:2000\n",
      "multi_class:auto\n",
      "n_jobs:None\n",
      "penalty:l2\n",
      "random_state:25\n",
      "solver:liblinear\n",
      "tol:1e-05\n",
      "verbose:0\n",
      "warm_start:False\n",
      "evaluation\n",
      "training, {'accuracy': 0.8731778425655977, 'precision': 0.22077922077922077, 'recall': 0.38636363636363635, 'f1_score': 0.2809917355371901}\n",
      "testing, {'accuracy': 0.8604651162790697, 'precision': 0.11764705882352941, 'recall': 0.18181818181818182, 'f1_score': 0.14285714285714285}\n"
     ]
    }
   ],
   "source": [
    "# train model - logistic regression\n",
    "# how to use make scorer, https://scikit-learn.org/stable/modules/model_evaluation.html\n",
    "custom_scoring = make_scorer(f1_score, greater_is_better=True)\n",
    "logistic_params = {\n",
    "    \"class_weight\":[{1:15,0:1}, adj_class_weight, {1:7,0:1}, {1:3,0:1}]\\\n",
    "    , 'C':[0.001, 0.01, 0.1, 1]\n",
    "}\n",
    "grid_logistic_reg = GridSearchCV(\n",
    "    estimator = LogisticRegression(random_state=25\n",
    "        , solver='liblinear'\n",
    "        , max_iter=2000\n",
    "        , tol=1e-5\n",
    "        , fit_intercept=1) # define our algorithm\n",
    "    , param_grid = logistic_params  # define the metrics for searching\n",
    "    , scoring = custom_scoring   # define the evaluation metrics\n",
    "    , verbose=0\n",
    ")\n",
    "grid_logistic_reg.fit(X_train, y_train)\n",
    "logistic_reg = grid_logistic_reg.best_estimator_\n",
    "# export parameters\n",
    "print('model parameters')\n",
    "for k,v in logistic_reg.get_params().items():\n",
    "    print(f\"{k}:{v}\")\n",
    "print('evaluation')\n",
    "print(\"training, \" + str(calc_metrics(logistic_reg, X_train, y_train)))\n",
    "print(\"testing, \" + str(calc_metrics(logistic_reg, X_test, y_test)))"
   ]
  },
  {
   "cell_type": "markdown",
   "metadata": {},
   "source": [
    "<h5>Intepretation of logistic regresion coefficient</h5>\n",
    "<p><b>Odd ratio - </b>Odds is the ratio between P(Y=1) and P(Y=0), and it represents the relativity between the two probability. When it is 1, it means it's equal chances, vice verse.</p>\n",
    "<p><b>Feature importance - </b>when a feature X increases by 1 unit, the odd ratio of (X+1) against the odd ratio is exp(coef). Hence, we can use exp(coef) as our feature importance, since the bigger the number is, the more it times to the odd ratio under the same increase. Anything above 1 is positive factors and below 1 would be negative factors</p>"
   ]
  },
  {
   "cell_type": "code",
   "execution_count": 15,
   "metadata": {},
   "outputs": [
    {
     "data": {
      "text/plain": [
       "<matplotlib.axes._subplots.AxesSubplot at 0x22d8e475a30>"
      ]
     },
     "execution_count": 15,
     "metadata": {},
     "output_type": "execute_result"
    },
    {
     "data": {
      "image/png": "[encoded data removed]",
      "text/plain": [
       "<Figure size 432x288 with 1 Axes>"
      ]
     },
     "metadata": {},
     "output_type": "display_data"
    }
   ],
   "source": [
    "# export feature importance\n",
    "#\n",
    "feature_importance = pd.DataFrame(pd.Series(logistic_reg.coef_.reshape(-1),name='lg_coef'))\n",
    "feature_importance['lg_imp'] = feature_importance.lg_coef.apply(lambda x: math.pow(math.e, x))\n",
    "feature_importance['lg_cols'] = feature_cols\n",
    "sns.barplot(x=\"lg_imp\", y=\"lg_cols\", data=feature_importance\\\n",
    "    .sort_values(by='lg_imp',ascending=False), color=\"b\")"
   ]
  },
  {
   "cell_type": "markdown",
   "metadata": {},
   "source": [
    "<h5>Boost Tree Training</h5>\n",
    "<p>We will include</p>\n",
    "<ul>\n",
    "    <li>Grid Search Cross Validation on best parameters for class weight and L2 regularisation</li>\n",
    "    <li>Calculate Feature Importance</li>\n",
    "</ul>\n",
    "<p>References</p>\n",
    "<ul>\n",
    "<li><a href=\"https://lightgbm.readthedocs.io/en/latest/pythonapi/lightgbm.LGBMClassifier.html#lightgbm.LGBMClassifier.fit\">LightGBM Classifier Document</a></li>\n",
    "<li><a href=\"https://lightgbm.readthedocs.io/en/latest/Parameters-Tuning.html\">LightGBM Parameter Tuning</a></li>\n",
    "<li><a href='https://www.kaggle.com/code/prashant111/lightgbm-classifier-in-python/notebook'>Fine tuning LightGBM and dealing with Overfitting</a></li>\n",
    "</ul>"
   ]
  },
  {
   "cell_type": "code",
   "execution_count": 16,
   "metadata": {},
   "outputs": [],
   "source": [
    "from lib.util_focal_loss import *\n",
    "from lightgbm import LGBMClassifier, plot_importance,plot_metric\n",
    "from lightgbm import train, early_stopping\n",
    "from lightgbm import Dataset\n",
    "from sklearn import metrics\n",
    "\n",
    "def logloss_init_score(y):\n",
    "    p = y.mean()\n",
    "    p = np.clip(p, 1e-15, 1 - 1e-15)  # never hurts\n",
    "    log_odds = np.log(p / (1 - p))\n",
    "    return log_odds\n",
    "\n",
    "X_fit, X_val, y_fit, y_val = train_test_split(X_train, y_train, test_size=0.2,random_state=25)\n",
    "fit = Dataset(\n",
    "    X_fit, y_fit,\n",
    "    init_score=np.full_like(y_fit, logloss_init_score(y_fit), dtype=float)\n",
    ")\n",
    "val = Dataset(\n",
    "    X_val, y_val,\n",
    "    init_score=np.full_like(y_val, logloss_init_score(y_fit), dtype=float),\n",
    "    reference=fit\n",
    ")"
   ]
  },
  {
   "cell_type": "code",
   "execution_count": 26,
   "metadata": {},
   "outputs": [
    {
     "ename": "AttributeError",
     "evalue": "'numpy.ndarray' object has no attribute 'get_label'",
     "output_type": "error",
     "traceback": [
      "\u001b[1;31m---------------------------------------------------------------------------\u001b[0m",
      "\u001b[1;31mAttributeError\u001b[0m                            Traceback (most recent call last)",
      "\u001b[1;32me:\\Projects\\explainable_ml\\s4.3_cancer_v2.ipynb Cell 22'\u001b[0m in \u001b[0;36m<cell line: 11>\u001b[1;34m()\u001b[0m\n\u001b[0;32m      <a href='vscode-notebook-cell:/e%3A/Projects/explainable_ml/s4.3_cancer_v2.ipynb#ch0000021?line=1'>2</a>\u001b[0m fl \u001b[39m=\u001b[39m FocalLoss(alpha\u001b[39m=\u001b[39m\u001b[39mNone\u001b[39;00m, gamma\u001b[39m=\u001b[39m\u001b[39m0\u001b[39m)\n\u001b[0;32m      <a href='vscode-notebook-cell:/e%3A/Projects/explainable_ml/s4.3_cancer_v2.ipynb#ch0000021?line=3'>4</a>\u001b[0m gbt_model \u001b[39m=\u001b[39m LGBMClassifier(\n\u001b[0;32m      <a href='vscode-notebook-cell:/e%3A/Projects/explainable_ml/s4.3_cancer_v2.ipynb#ch0000021?line=4'>5</a>\u001b[0m     boosting_type\u001b[39m=\u001b[39m\u001b[39m'\u001b[39m\u001b[39mgoss\u001b[39m\u001b[39m'\u001b[39m,\n\u001b[0;32m      <a href='vscode-notebook-cell:/e%3A/Projects/explainable_ml/s4.3_cancer_v2.ipynb#ch0000021?line=5'>6</a>\u001b[0m     objective \u001b[39m=\u001b[39m fl\u001b[39m.\u001b[39mlgb_obj,\n\u001b[0;32m      <a href='vscode-notebook-cell:/e%3A/Projects/explainable_ml/s4.3_cancer_v2.ipynb#ch0000021?line=6'>7</a>\u001b[0m     n_estimators\u001b[39m=\u001b[39m\u001b[39m10000\u001b[39m,\n\u001b[0;32m      <a href='vscode-notebook-cell:/e%3A/Projects/explainable_ml/s4.3_cancer_v2.ipynb#ch0000021?line=7'>8</a>\u001b[0m     learning_rate \u001b[39m=\u001b[39m \u001b[39m0.01\u001b[39m\n\u001b[0;32m      <a href='vscode-notebook-cell:/e%3A/Projects/explainable_ml/s4.3_cancer_v2.ipynb#ch0000021?line=8'>9</a>\u001b[0m )\n\u001b[1;32m---> <a href='vscode-notebook-cell:/e%3A/Projects/explainable_ml/s4.3_cancer_v2.ipynb#ch0000021?line=10'>11</a>\u001b[0m gbt_model\u001b[39m.\u001b[39;49mfit(X \u001b[39m=\u001b[39;49m X_fit, y \u001b[39m=\u001b[39;49m y_fit\\\n\u001b[0;32m     <a href='vscode-notebook-cell:/e%3A/Projects/explainable_ml/s4.3_cancer_v2.ipynb#ch0000021?line=11'>12</a>\u001b[0m     , feature_name \u001b[39m=\u001b[39;49m feature_cols\\\n\u001b[0;32m     <a href='vscode-notebook-cell:/e%3A/Projects/explainable_ml/s4.3_cancer_v2.ipynb#ch0000021?line=12'>13</a>\u001b[0m     , eval_set\u001b[39m=\u001b[39;49m[(X_fit,y_fit),(X_val,y_val)]\\\n\u001b[0;32m     <a href='vscode-notebook-cell:/e%3A/Projects/explainable_ml/s4.3_cancer_v2.ipynb#ch0000021?line=13'>14</a>\u001b[0m     , eval_names\u001b[39m=\u001b[39;49m[\u001b[39m'\u001b[39;49m\u001b[39mfit\u001b[39;49m\u001b[39m'\u001b[39;49m,\u001b[39m'\u001b[39;49m\u001b[39mval\u001b[39;49m\u001b[39m'\u001b[39;49m]\\\n\u001b[0;32m     <a href='vscode-notebook-cell:/e%3A/Projects/explainable_ml/s4.3_cancer_v2.ipynb#ch0000021?line=14'>15</a>\u001b[0m     , eval_metric\u001b[39m=\u001b[39;49mfl\u001b[39m.\u001b[39;49mlgb_eval\\\n\u001b[0;32m     <a href='vscode-notebook-cell:/e%3A/Projects/explainable_ml/s4.3_cancer_v2.ipynb#ch0000021?line=15'>16</a>\u001b[0m     , callbacks\u001b[39m=\u001b[39;49m[early_stopping(stopping_rounds\u001b[39m=\u001b[39;49m\u001b[39m20\u001b[39;49m)])\n",
      "File \u001b[1;32me:\\Projects\\Envs\\Repo\\lib\\site-packages\\lightgbm\\sklearn.py:967\u001b[0m, in \u001b[0;36mLGBMClassifier.fit\u001b[1;34m(self, X, y, sample_weight, init_score, eval_set, eval_names, eval_sample_weight, eval_class_weight, eval_init_score, eval_metric, early_stopping_rounds, verbose, feature_name, categorical_feature, callbacks, init_model)\u001b[0m\n\u001b[0;32m    <a href='file:///e%3A/Projects/Envs/Repo/lib/site-packages/lightgbm/sklearn.py?line=963'>964</a>\u001b[0m         \u001b[39melse\u001b[39;00m:\n\u001b[0;32m    <a href='file:///e%3A/Projects/Envs/Repo/lib/site-packages/lightgbm/sklearn.py?line=964'>965</a>\u001b[0m             valid_sets[i] \u001b[39m=\u001b[39m (valid_x, \u001b[39mself\u001b[39m\u001b[39m.\u001b[39m_le\u001b[39m.\u001b[39mtransform(valid_y))\n\u001b[1;32m--> <a href='file:///e%3A/Projects/Envs/Repo/lib/site-packages/lightgbm/sklearn.py?line=966'>967</a>\u001b[0m \u001b[39msuper\u001b[39;49m()\u001b[39m.\u001b[39;49mfit(X, _y, sample_weight\u001b[39m=\u001b[39;49msample_weight, init_score\u001b[39m=\u001b[39;49minit_score, eval_set\u001b[39m=\u001b[39;49mvalid_sets,\n\u001b[0;32m    <a href='file:///e%3A/Projects/Envs/Repo/lib/site-packages/lightgbm/sklearn.py?line=967'>968</a>\u001b[0m             eval_names\u001b[39m=\u001b[39;49meval_names, eval_sample_weight\u001b[39m=\u001b[39;49meval_sample_weight,\n\u001b[0;32m    <a href='file:///e%3A/Projects/Envs/Repo/lib/site-packages/lightgbm/sklearn.py?line=968'>969</a>\u001b[0m             eval_class_weight\u001b[39m=\u001b[39;49meval_class_weight, eval_init_score\u001b[39m=\u001b[39;49meval_init_score,\n\u001b[0;32m    <a href='file:///e%3A/Projects/Envs/Repo/lib/site-packages/lightgbm/sklearn.py?line=969'>970</a>\u001b[0m             eval_metric\u001b[39m=\u001b[39;49meval_metric, early_stopping_rounds\u001b[39m=\u001b[39;49mearly_stopping_rounds,\n\u001b[0;32m    <a href='file:///e%3A/Projects/Envs/Repo/lib/site-packages/lightgbm/sklearn.py?line=970'>971</a>\u001b[0m             verbose\u001b[39m=\u001b[39;49mverbose, feature_name\u001b[39m=\u001b[39;49mfeature_name, categorical_feature\u001b[39m=\u001b[39;49mcategorical_feature,\n\u001b[0;32m    <a href='file:///e%3A/Projects/Envs/Repo/lib/site-packages/lightgbm/sklearn.py?line=971'>972</a>\u001b[0m             callbacks\u001b[39m=\u001b[39;49mcallbacks, init_model\u001b[39m=\u001b[39;49minit_model)\n\u001b[0;32m    <a href='file:///e%3A/Projects/Envs/Repo/lib/site-packages/lightgbm/sklearn.py?line=972'>973</a>\u001b[0m \u001b[39mreturn\u001b[39;00m \u001b[39mself\u001b[39m\n",
      "File \u001b[1;32me:\\Projects\\Envs\\Repo\\lib\\site-packages\\lightgbm\\sklearn.py:748\u001b[0m, in \u001b[0;36mLGBMModel.fit\u001b[1;34m(self, X, y, sample_weight, init_score, group, eval_set, eval_names, eval_sample_weight, eval_class_weight, eval_init_score, eval_group, eval_metric, early_stopping_rounds, verbose, feature_name, categorical_feature, callbacks, init_model)\u001b[0m\n\u001b[0;32m    <a href='file:///e%3A/Projects/Envs/Repo/lib/site-packages/lightgbm/sklearn.py?line=744'>745</a>\u001b[0m evals_result \u001b[39m=\u001b[39m {}\n\u001b[0;32m    <a href='file:///e%3A/Projects/Envs/Repo/lib/site-packages/lightgbm/sklearn.py?line=745'>746</a>\u001b[0m callbacks\u001b[39m.\u001b[39mappend(record_evaluation(evals_result))\n\u001b[1;32m--> <a href='file:///e%3A/Projects/Envs/Repo/lib/site-packages/lightgbm/sklearn.py?line=747'>748</a>\u001b[0m \u001b[39mself\u001b[39m\u001b[39m.\u001b[39m_Booster \u001b[39m=\u001b[39m train(\n\u001b[0;32m    <a href='file:///e%3A/Projects/Envs/Repo/lib/site-packages/lightgbm/sklearn.py?line=748'>749</a>\u001b[0m     params\u001b[39m=\u001b[39;49mparams,\n\u001b[0;32m    <a href='file:///e%3A/Projects/Envs/Repo/lib/site-packages/lightgbm/sklearn.py?line=749'>750</a>\u001b[0m     train_set\u001b[39m=\u001b[39;49mtrain_set,\n\u001b[0;32m    <a href='file:///e%3A/Projects/Envs/Repo/lib/site-packages/lightgbm/sklearn.py?line=750'>751</a>\u001b[0m     num_boost_round\u001b[39m=\u001b[39;49m\u001b[39mself\u001b[39;49m\u001b[39m.\u001b[39;49mn_estimators,\n\u001b[0;32m    <a href='file:///e%3A/Projects/Envs/Repo/lib/site-packages/lightgbm/sklearn.py?line=751'>752</a>\u001b[0m     valid_sets\u001b[39m=\u001b[39;49mvalid_sets,\n\u001b[0;32m    <a href='file:///e%3A/Projects/Envs/Repo/lib/site-packages/lightgbm/sklearn.py?line=752'>753</a>\u001b[0m     valid_names\u001b[39m=\u001b[39;49meval_names,\n\u001b[0;32m    <a href='file:///e%3A/Projects/Envs/Repo/lib/site-packages/lightgbm/sklearn.py?line=753'>754</a>\u001b[0m     fobj\u001b[39m=\u001b[39;49m\u001b[39mself\u001b[39;49m\u001b[39m.\u001b[39;49m_fobj,\n\u001b[0;32m    <a href='file:///e%3A/Projects/Envs/Repo/lib/site-packages/lightgbm/sklearn.py?line=754'>755</a>\u001b[0m     feval\u001b[39m=\u001b[39;49meval_metrics_callable,\n\u001b[0;32m    <a href='file:///e%3A/Projects/Envs/Repo/lib/site-packages/lightgbm/sklearn.py?line=755'>756</a>\u001b[0m     init_model\u001b[39m=\u001b[39;49minit_model,\n\u001b[0;32m    <a href='file:///e%3A/Projects/Envs/Repo/lib/site-packages/lightgbm/sklearn.py?line=756'>757</a>\u001b[0m     feature_name\u001b[39m=\u001b[39;49mfeature_name,\n\u001b[0;32m    <a href='file:///e%3A/Projects/Envs/Repo/lib/site-packages/lightgbm/sklearn.py?line=757'>758</a>\u001b[0m     callbacks\u001b[39m=\u001b[39;49mcallbacks\n\u001b[0;32m    <a href='file:///e%3A/Projects/Envs/Repo/lib/site-packages/lightgbm/sklearn.py?line=758'>759</a>\u001b[0m )\n\u001b[0;32m    <a href='file:///e%3A/Projects/Envs/Repo/lib/site-packages/lightgbm/sklearn.py?line=760'>761</a>\u001b[0m \u001b[39mif\u001b[39;00m evals_result:\n\u001b[0;32m    <a href='file:///e%3A/Projects/Envs/Repo/lib/site-packages/lightgbm/sklearn.py?line=761'>762</a>\u001b[0m     \u001b[39mself\u001b[39m\u001b[39m.\u001b[39m_evals_result \u001b[39m=\u001b[39m evals_result\n",
      "File \u001b[1;32me:\\Projects\\Envs\\Repo\\lib\\site-packages\\lightgbm\\engine.py:292\u001b[0m, in \u001b[0;36mtrain\u001b[1;34m(params, train_set, num_boost_round, valid_sets, valid_names, fobj, feval, init_model, feature_name, categorical_feature, early_stopping_rounds, evals_result, verbose_eval, learning_rates, keep_training_booster, callbacks)\u001b[0m\n\u001b[0;32m    <a href='file:///e%3A/Projects/Envs/Repo/lib/site-packages/lightgbm/engine.py?line=283'>284</a>\u001b[0m \u001b[39mfor\u001b[39;00m cb \u001b[39min\u001b[39;00m callbacks_before_iter:\n\u001b[0;32m    <a href='file:///e%3A/Projects/Envs/Repo/lib/site-packages/lightgbm/engine.py?line=284'>285</a>\u001b[0m     cb(callback\u001b[39m.\u001b[39mCallbackEnv(model\u001b[39m=\u001b[39mbooster,\n\u001b[0;32m    <a href='file:///e%3A/Projects/Envs/Repo/lib/site-packages/lightgbm/engine.py?line=285'>286</a>\u001b[0m                             params\u001b[39m=\u001b[39mparams,\n\u001b[0;32m    <a href='file:///e%3A/Projects/Envs/Repo/lib/site-packages/lightgbm/engine.py?line=286'>287</a>\u001b[0m                             iteration\u001b[39m=\u001b[39mi,\n\u001b[0;32m    <a href='file:///e%3A/Projects/Envs/Repo/lib/site-packages/lightgbm/engine.py?line=287'>288</a>\u001b[0m                             begin_iteration\u001b[39m=\u001b[39minit_iteration,\n\u001b[0;32m    <a href='file:///e%3A/Projects/Envs/Repo/lib/site-packages/lightgbm/engine.py?line=288'>289</a>\u001b[0m                             end_iteration\u001b[39m=\u001b[39minit_iteration \u001b[39m+\u001b[39m num_boost_round,\n\u001b[0;32m    <a href='file:///e%3A/Projects/Envs/Repo/lib/site-packages/lightgbm/engine.py?line=289'>290</a>\u001b[0m                             evaluation_result_list\u001b[39m=\u001b[39m\u001b[39mNone\u001b[39;00m))\n\u001b[1;32m--> <a href='file:///e%3A/Projects/Envs/Repo/lib/site-packages/lightgbm/engine.py?line=291'>292</a>\u001b[0m booster\u001b[39m.\u001b[39;49mupdate(fobj\u001b[39m=\u001b[39;49mfobj)\n\u001b[0;32m    <a href='file:///e%3A/Projects/Envs/Repo/lib/site-packages/lightgbm/engine.py?line=293'>294</a>\u001b[0m evaluation_result_list \u001b[39m=\u001b[39m []\n\u001b[0;32m    <a href='file:///e%3A/Projects/Envs/Repo/lib/site-packages/lightgbm/engine.py?line=294'>295</a>\u001b[0m \u001b[39m# check evaluation result.\u001b[39;00m\n",
      "File \u001b[1;32me:\\Projects\\Envs\\Repo\\lib\\site-packages\\lightgbm\\basic.py:3029\u001b[0m, in \u001b[0;36mBooster.update\u001b[1;34m(self, train_set, fobj)\u001b[0m\n\u001b[0;32m   <a href='file:///e%3A/Projects/Envs/Repo/lib/site-packages/lightgbm/basic.py?line=3026'>3027</a>\u001b[0m \u001b[39mif\u001b[39;00m \u001b[39mnot\u001b[39;00m \u001b[39mself\u001b[39m\u001b[39m.\u001b[39m__set_objective_to_none:\n\u001b[0;32m   <a href='file:///e%3A/Projects/Envs/Repo/lib/site-packages/lightgbm/basic.py?line=3027'>3028</a>\u001b[0m     \u001b[39mself\u001b[39m\u001b[39m.\u001b[39mreset_parameter({\u001b[39m\"\u001b[39m\u001b[39mobjective\u001b[39m\u001b[39m\"\u001b[39m: \u001b[39m\"\u001b[39m\u001b[39mnone\u001b[39m\u001b[39m\"\u001b[39m})\u001b[39m.\u001b[39m__set_objective_to_none \u001b[39m=\u001b[39m \u001b[39mTrue\u001b[39;00m\n\u001b[1;32m-> <a href='file:///e%3A/Projects/Envs/Repo/lib/site-packages/lightgbm/basic.py?line=3028'>3029</a>\u001b[0m grad, hess \u001b[39m=\u001b[39m fobj(\u001b[39mself\u001b[39;49m\u001b[39m.\u001b[39;49m__inner_predict(\u001b[39m0\u001b[39;49m), \u001b[39mself\u001b[39;49m\u001b[39m.\u001b[39;49mtrain_set)\n\u001b[0;32m   <a href='file:///e%3A/Projects/Envs/Repo/lib/site-packages/lightgbm/basic.py?line=3029'>3030</a>\u001b[0m \u001b[39mreturn\u001b[39;00m \u001b[39mself\u001b[39m\u001b[39m.\u001b[39m__boost(grad, hess)\n",
      "File \u001b[1;32me:\\Projects\\Envs\\Repo\\lib\\site-packages\\lightgbm\\sklearn.py:82\u001b[0m, in \u001b[0;36m_ObjectiveFunctionWrapper.__call__\u001b[1;34m(self, preds, dataset)\u001b[0m\n\u001b[0;32m     <a href='file:///e%3A/Projects/Envs/Repo/lib/site-packages/lightgbm/sklearn.py?line=79'>80</a>\u001b[0m argc \u001b[39m=\u001b[39m \u001b[39mlen\u001b[39m(signature(\u001b[39mself\u001b[39m\u001b[39m.\u001b[39mfunc)\u001b[39m.\u001b[39mparameters)\n\u001b[0;32m     <a href='file:///e%3A/Projects/Envs/Repo/lib/site-packages/lightgbm/sklearn.py?line=80'>81</a>\u001b[0m \u001b[39mif\u001b[39;00m argc \u001b[39m==\u001b[39m \u001b[39m2\u001b[39m:\n\u001b[1;32m---> <a href='file:///e%3A/Projects/Envs/Repo/lib/site-packages/lightgbm/sklearn.py?line=81'>82</a>\u001b[0m     grad, hess \u001b[39m=\u001b[39m \u001b[39mself\u001b[39;49m\u001b[39m.\u001b[39;49mfunc(labels, preds)\n\u001b[0;32m     <a href='file:///e%3A/Projects/Envs/Repo/lib/site-packages/lightgbm/sklearn.py?line=82'>83</a>\u001b[0m \u001b[39melif\u001b[39;00m argc \u001b[39m==\u001b[39m \u001b[39m3\u001b[39m:\n\u001b[0;32m     <a href='file:///e%3A/Projects/Envs/Repo/lib/site-packages/lightgbm/sklearn.py?line=83'>84</a>\u001b[0m     grad, hess \u001b[39m=\u001b[39m \u001b[39mself\u001b[39m\u001b[39m.\u001b[39mfunc(labels, preds, dataset\u001b[39m.\u001b[39mget_group())\n",
      "File \u001b[1;32me:\\Projects\\explainable_ml\\lib\\util_focal_loss.py:56\u001b[0m, in \u001b[0;36mFocalLoss.lgb_obj\u001b[1;34m(self, preds, train_data)\u001b[0m\n\u001b[0;32m     <a href='file:///e%3A/Projects/explainable_ml/lib/util_focal_loss.py?line=54'>55</a>\u001b[0m \u001b[39mdef\u001b[39;00m \u001b[39mlgb_obj\u001b[39m(\u001b[39mself\u001b[39m, preds, train_data):\n\u001b[1;32m---> <a href='file:///e%3A/Projects/explainable_ml/lib/util_focal_loss.py?line=55'>56</a>\u001b[0m     y \u001b[39m=\u001b[39m train_data\u001b[39m.\u001b[39;49mget_label()\n\u001b[0;32m     <a href='file:///e%3A/Projects/explainable_ml/lib/util_focal_loss.py?line=56'>57</a>\u001b[0m     p \u001b[39m=\u001b[39m special\u001b[39m.\u001b[39mexpit(preds)\n\u001b[0;32m     <a href='file:///e%3A/Projects/explainable_ml/lib/util_focal_loss.py?line=57'>58</a>\u001b[0m     \u001b[39mreturn\u001b[39;00m \u001b[39mself\u001b[39m\u001b[39m.\u001b[39mgrad(y, p), \u001b[39mself\u001b[39m\u001b[39m.\u001b[39mhess(y, p)\n",
      "\u001b[1;31mAttributeError\u001b[0m: 'numpy.ndarray' object has no attribute 'get_label'"
     ]
    }
   ],
   "source": [
    "# initial focal loss\n",
    "fl = FocalLoss(alpha=None, gamma=0)\n",
    "\n",
    "gbt_model = LGBMClassifier(\n",
    "    boosting_type='goss',\n",
    "    objective = fl.lgb_obj,\n",
    "    n_estimators=10000,\n",
    "    learning_rate = 0.01\n",
    ")\n",
    "\n",
    "gbt_model.fit(X = X_fit, y = y_fit\\\n",
    "    , feature_name = feature_cols\\\n",
    "    , eval_set=[(X_fit,y_fit),(X_val,y_val)]\\\n",
    "    , eval_names=['fit','val']\\\n",
    "    , eval_metric=fl.lgb_eval\\\n",
    "    , callbacks=[early_stopping(stopping_rounds=20)])"
   ]
  },
  {
   "cell_type": "code",
   "execution_count": 18,
   "metadata": {},
   "outputs": [
    {
     "data": {
      "text/plain": [
       "<matplotlib.axes._subplots.AxesSubplot at 0x22d906489a0>"
      ]
     },
     "execution_count": 18,
     "metadata": {},
     "output_type": "execute_result"
    },
    {
     "data": {
      "image/png": "[encoded data removed]",
      "text/plain": [
       "<Figure size 576x288 with 1 Axes>"
      ]
     },
     "metadata": {},
     "output_type": "display_data"
    }
   ],
   "source": [
    "# plot feature importance\n",
    "plot_importance(gbt_reg, importance_type='gain', max_num_features=-1, ignore_zero=False, figsize=(8,4))"
   ]
  },
  {
   "cell_type": "markdown",
   "metadata": {},
   "source": [
    "<h3>Compare results / Evaluation</h3>\n",
    "<p>Here're the content</p>\n",
    "<ul>\n",
    "    <li>Find the correlation between log loss of FP/FN and each feature per model. The aim is to find the which factor influnce our errors the most</li>\n",
    "    <li>Plotting ROC-AUC curves of the two models. It shows that Gradient Boost Tree does provide a better performance.</li>\n",
    "</ul>"
   ]
  },
  {
   "cell_type": "code",
   "execution_count": 19,
   "metadata": {},
   "outputs": [
    {
     "ename": "AttributeError",
     "evalue": "'Booster' object has no attribute 'predict_proba'",
     "output_type": "error",
     "traceback": [
      "\u001b[1;31m---------------------------------------------------------------------------\u001b[0m",
      "\u001b[1;31mAttributeError\u001b[0m                            Traceback (most recent call last)",
      "\u001b[1;32me:\\Projects\\explainable_ml\\s4.3_cancer_v2.ipynb Cell 25'\u001b[0m in \u001b[0;36m<cell line: 5>\u001b[1;34m()\u001b[0m\n\u001b[0;32m      <a href='vscode-notebook-cell:/e%3A/Projects/explainable_ml/s4.3_cancer_v2.ipynb#ch0000024?line=2'>3</a>\u001b[0m \u001b[39mimport\u001b[39;00m \u001b[39mmath\u001b[39;00m\n\u001b[0;32m      <a href='vscode-notebook-cell:/e%3A/Projects/explainable_ml/s4.3_cancer_v2.ipynb#ch0000024?line=3'>4</a>\u001b[0m log_loss \u001b[39m=\u001b[39m \u001b[39mlambda\u001b[39;00m y,p: (\u001b[39m-\u001b[39m\u001b[39m1\u001b[39m) \u001b[39m*\u001b[39m y \u001b[39m*\u001b[39m math\u001b[39m.\u001b[39mlog(p) \u001b[39m+\u001b[39m (\u001b[39m1\u001b[39m \u001b[39m-\u001b[39m y) \u001b[39m*\u001b[39m math\u001b[39m.\u001b[39mlog(\u001b[39m1\u001b[39m \u001b[39m-\u001b[39m p)\n\u001b[0;32m      <a href='vscode-notebook-cell:/e%3A/Projects/explainable_ml/s4.3_cancer_v2.ipynb#ch0000024?line=4'>5</a>\u001b[0m outcome_df \u001b[39m=\u001b[39m pd\u001b[39m.\u001b[39mDataFrame(\n\u001b[0;32m      <a href='vscode-notebook-cell:/e%3A/Projects/explainable_ml/s4.3_cancer_v2.ipynb#ch0000024?line=5'>6</a>\u001b[0m     np\u001b[39m.\u001b[39mhstack([\n\u001b[0;32m      <a href='vscode-notebook-cell:/e%3A/Projects/explainable_ml/s4.3_cancer_v2.ipynb#ch0000024?line=6'>7</a>\u001b[0m         X_train\n\u001b[0;32m      <a href='vscode-notebook-cell:/e%3A/Projects/explainable_ml/s4.3_cancer_v2.ipynb#ch0000024?line=7'>8</a>\u001b[0m         , y_train\u001b[39m.\u001b[39mreshape(\u001b[39m-\u001b[39m\u001b[39m1\u001b[39m,\u001b[39m1\u001b[39m)\n\u001b[0;32m      <a href='vscode-notebook-cell:/e%3A/Projects/explainable_ml/s4.3_cancer_v2.ipynb#ch0000024?line=8'>9</a>\u001b[0m         , logistic_reg\u001b[39m.\u001b[39mpredict(X_train)\u001b[39m.\u001b[39mreshape(\u001b[39m-\u001b[39m\u001b[39m1\u001b[39m,\u001b[39m1\u001b[39m)\n\u001b[0;32m     <a href='vscode-notebook-cell:/e%3A/Projects/explainable_ml/s4.3_cancer_v2.ipynb#ch0000024?line=9'>10</a>\u001b[0m         , logistic_reg\u001b[39m.\u001b[39mpredict_proba(X_train)\u001b[39m.\u001b[39mreshape(\u001b[39m-\u001b[39m\u001b[39m1\u001b[39m,\u001b[39m2\u001b[39m)\n\u001b[0;32m     <a href='vscode-notebook-cell:/e%3A/Projects/explainable_ml/s4.3_cancer_v2.ipynb#ch0000024?line=10'>11</a>\u001b[0m         , gbt_reg\u001b[39m.\u001b[39mpredict(X_train)\u001b[39m.\u001b[39mreshape(\u001b[39m-\u001b[39m\u001b[39m1\u001b[39m,\u001b[39m1\u001b[39m)\n\u001b[1;32m---> <a href='vscode-notebook-cell:/e%3A/Projects/explainable_ml/s4.3_cancer_v2.ipynb#ch0000024?line=11'>12</a>\u001b[0m         , gbt_reg\u001b[39m.\u001b[39;49mpredict_proba(X_train)\u001b[39m.\u001b[39mreshape(\u001b[39m-\u001b[39m\u001b[39m1\u001b[39m,\u001b[39m2\u001b[39m)\n\u001b[0;32m     <a href='vscode-notebook-cell:/e%3A/Projects/explainable_ml/s4.3_cancer_v2.ipynb#ch0000024?line=12'>13</a>\u001b[0m     ]), columns \u001b[39m=\u001b[39m feature_cols \u001b[39m+\u001b[39m [\u001b[39m'\u001b[39m\u001b[39mresp\u001b[39m\u001b[39m'\u001b[39m,\u001b[39m'\u001b[39m\u001b[39mlg_pred\u001b[39m\u001b[39m'\u001b[39m,\u001b[39m'\u001b[39m\u001b[39mlg_prob0\u001b[39m\u001b[39m'\u001b[39m,\u001b[39m'\u001b[39m\u001b[39mlg_prob1\u001b[39m\u001b[39m'\u001b[39m,\u001b[39m'\u001b[39m\u001b[39mgbt_pred\u001b[39m\u001b[39m'\u001b[39m,\u001b[39m'\u001b[39m\u001b[39mgbt_prob0\u001b[39m\u001b[39m'\u001b[39m,\u001b[39m'\u001b[39m\u001b[39mgbt_prob1\u001b[39m\u001b[39m'\u001b[39m])\n\u001b[0;32m     <a href='vscode-notebook-cell:/e%3A/Projects/explainable_ml/s4.3_cancer_v2.ipynb#ch0000024?line=13'>14</a>\u001b[0m outcome_df[\u001b[39m'\u001b[39m\u001b[39mlg_prob_odd\u001b[39m\u001b[39m'\u001b[39m] \u001b[39m=\u001b[39m outcome_df[\u001b[39m'\u001b[39m\u001b[39mlg_prob1\u001b[39m\u001b[39m'\u001b[39m]\u001b[39m.\u001b[39mapply(\u001b[39mlambda\u001b[39;00m x: math\u001b[39m.\u001b[39mlog(x \u001b[39m/\u001b[39m (\u001b[39m1\u001b[39m\u001b[39m-\u001b[39mx)))\n\u001b[0;32m     <a href='vscode-notebook-cell:/e%3A/Projects/explainable_ml/s4.3_cancer_v2.ipynb#ch0000024?line=14'>15</a>\u001b[0m outcome_df[\u001b[39m'\u001b[39m\u001b[39mlg_diagnosis\u001b[39m\u001b[39m'\u001b[39m] \u001b[39m=\u001b[39m outcome_df\u001b[39m.\u001b[39mapply(\u001b[39mlambda\u001b[39;00m x: \u001b[39m'\u001b[39m\u001b[39mTrue Neg\u001b[39m\u001b[39m'\u001b[39m \u001b[39mif\u001b[39;00m (x\u001b[39m.\u001b[39mresp\u001b[39m==\u001b[39mx\u001b[39m.\u001b[39mlg_pred) \u001b[39m&\u001b[39m (x\u001b[39m.\u001b[39mresp\u001b[39m==\u001b[39m\u001b[39m0\u001b[39m)  \u001b[39melse\u001b[39;00m \u001b[39m'\u001b[39m\u001b[39mTrue Pos\u001b[39m\u001b[39m'\u001b[39m \u001b[39mif\u001b[39;00m (x\u001b[39m.\u001b[39mresp\u001b[39m==\u001b[39mx\u001b[39m.\u001b[39mlg_pred) \u001b[39m&\u001b[39m (x\u001b[39m.\u001b[39mresp\u001b[39m==\u001b[39m\u001b[39m1\u001b[39m) \u001b[39melse\u001b[39;00m \u001b[39m'\u001b[39m\u001b[39mFalse Pos\u001b[39m\u001b[39m'\u001b[39m \u001b[39mif\u001b[39;00m x\u001b[39m.\u001b[39mresp \u001b[39m==\u001b[39m \u001b[39m0\u001b[39m \u001b[39melse\u001b[39;00m \u001b[39m'\u001b[39m\u001b[39mFalse Neg\u001b[39m\u001b[39m'\u001b[39m, axis\u001b[39m=\u001b[39m\u001b[39m1\u001b[39m)\n",
      "\u001b[1;31mAttributeError\u001b[0m: 'Booster' object has no attribute 'predict_proba'"
     ]
    }
   ],
   "source": [
    "# we need to understand which one predicts wrongly\n",
    "# \n",
    "import math\n",
    "log_loss = lambda y,p: (-1) * y * math.log(p) + (1 - y) * math.log(1 - p)\n",
    "outcome_df = pd.DataFrame(\n",
    "    np.hstack([\n",
    "        X_train\n",
    "        , y_train.reshape(-1,1)\n",
    "        , logistic_reg.predict(X_train).reshape(-1,1)\n",
    "        , logistic_reg.predict_proba(X_train).reshape(-1,2)\n",
    "        , gbt_reg.predict(X_train).reshape(-1,1)\n",
    "        , gbt_reg.predict_proba(X_train).reshape(-1,2)\n",
    "    ]), columns = feature_cols + ['resp','lg_pred','lg_prob0','lg_prob1','gbt_pred','gbt_prob0','gbt_prob1'])\n",
    "outcome_df['lg_prob_odd'] = outcome_df['lg_prob1'].apply(lambda x: math.log(x / (1-x)))\n",
    "outcome_df['lg_diagnosis'] = outcome_df.apply(lambda x: 'True Neg' if (x.resp==x.lg_pred) & (x.resp==0)  else 'True Pos' if (x.resp==x.lg_pred) & (x.resp==1) else 'False Pos' if x.resp == 0 else 'False Neg', axis=1)\n",
    "outcome_df['lg_loss'] = outcome_df.apply(lambda x: log_loss(x.resp, x.lg_prob1), axis=1) \n",
    "outcome_df['gbt_diagnosis'] = outcome_df.apply(lambda x: 'True Neg' if (x.resp==x.gbt_pred) & (x.resp==0)  else 'True Pos' if (x.resp==x.gbt_pred) & (x.resp==1) else 'False Pos' if x.resp == 0 else 'False Neg', axis=1)\n",
    "outcome_df['gbt_loss'] = outcome_df.apply(lambda x: log_loss(x.resp, x.gbt_prob1), axis=1) "
   ]
  },
  {
   "cell_type": "code",
   "execution_count": 35,
   "metadata": {},
   "outputs": [
    {
     "name": "stdout",
     "output_type": "stream",
     "text": [
      "model lg\n",
      "False Positive\n"
     ]
    },
    {
     "data": {
      "image/png": "[encoded data removed]",
      "text/plain": [
       "<Figure size 432x288 with 1 Axes>"
      ]
     },
     "metadata": {},
     "output_type": "display_data"
    },
    {
     "name": "stdout",
     "output_type": "stream",
     "text": [
      "False Negative\n"
     ]
    },
    {
     "data": {
      "image/png": "[encoded data removed]",
      "text/plain": [
       "<Figure size 432x288 with 1 Axes>"
      ]
     },
     "metadata": {},
     "output_type": "display_data"
    },
    {
     "name": "stdout",
     "output_type": "stream",
     "text": [
      "model gbt\n",
      "False Positive\n"
     ]
    },
    {
     "data": {
      "image/png": "[encoded data removed]",
      "text/plain": [
       "<Figure size 432x288 with 1 Axes>"
      ]
     },
     "metadata": {},
     "output_type": "display_data"
    },
    {
     "name": "stdout",
     "output_type": "stream",
     "text": [
      "False Negative\n"
     ]
    },
    {
     "data": {
      "image/png": "[encoded data removed]",
      "text/plain": [
       "<Figure size 432x288 with 1 Axes>"
      ]
     },
     "metadata": {},
     "output_type": "display_data"
    }
   ],
   "source": [
    "# with log loss each instance, we can find the correlation against our inputs and find correlation between log-loss and our inputs\n",
    "for m in ['lg','gbt']:\n",
    "    print(f'model {m}')\n",
    "    print('False Positive')\n",
    "    outcome_df.loc[outcome_df[f'{m}_diagnosis']==\"False Pos\"][feature_cols]\\\n",
    "        .corrwith(other=outcome_df[outcome_df[f'{m}_diagnosis']==\"False Pos\"][f'{m}_loss'], axis=0, method='pearson')\\\n",
    "        .sort_values().plot(kind='barh', xlim=(-1,1))\n",
    "    plt.show()\n",
    "\n",
    "    print('False Negative')\n",
    "    outcome_df.loc[outcome_df[f'{m}_diagnosis']==\"False Neg\"][feature_cols]\\\n",
    "        .corrwith(other=outcome_df[outcome_df[f'{m}_diagnosis']==\"False Neg\"][f'{m}_loss'], axis=0, method='pearson')\\\n",
    "        .sort_values().plot(kind='barh', xlim=(-1,1))\n",
    "    plt.show()"
   ]
  },
  {
   "cell_type": "code",
   "execution_count": 36,
   "metadata": {},
   "outputs": [
    {
     "data": {
      "image/png": "[encoded data removed]",
      "text/plain": [
       "<Figure size 432x432 with 1 Axes>"
      ]
     },
     "metadata": {},
     "output_type": "display_data"
    }
   ],
   "source": [
    "# plotting AUC ROC curve\n",
    "lg_fpr, lg_tpr, lg_thresholds = roc_curve(outcome_df['resp'].to_numpy(), outcome_df['lg_prob1'], pos_label=1)\n",
    "lg_roc_auc_score = roc_auc_score(outcome_df['resp'].to_numpy(), outcome_df['lg_prob1'])\n",
    "gbt_fpr, gbt_tpr, gbt_thresholds = roc_curve(outcome_df['resp'].to_numpy(), outcome_df['gbt_prob1'], pos_label=1)\n",
    "gbt_roc_auc_score = roc_auc_score(outcome_df['resp'].to_numpy(), outcome_df['gbt_prob1'])\n",
    "f, ax = plt.subplots(figsize=(6,6))\n",
    "ax.plot(lg_fpr, lg_tpr, '.-', color=\"#ff9124\", label=f'Logistic Regression, Area ({np.round(lg_roc_auc_score,2)})')\n",
    "ax.plot(gbt_fpr, gbt_tpr, '--', color=\"#2492ff\", label=f'Gradient Boost Tree, Area ({np.round(gbt_roc_auc_score,2)})')\n",
    "ax.plot(np.linspace(0,1,num=9), np.linspace(0,1,num=9), color='#96a9b5',label='Random Guess')\n",
    "ax.set_xlabel(\"False Positive Rate\")\n",
    "ax.set_ylabel(\"True Positive Rate\")\n",
    "ax.set_title('AUC-ROC curve')\n",
    "ax.grid(True)\n",
    "ax.legend(loc='best')\n",
    "plt.show()"
   ]
  },
  {
   "cell_type": "code",
   "execution_count": 37,
   "metadata": {},
   "outputs": [],
   "source": [
    "# export model\n",
    "import pickle\n",
    "filename = './model/cancer_logistic.sav'\n",
    "pickle.dump(logistic_reg, open(filename,'wb'))\n",
    "\n",
    "filename = './model/cancer_boost_tree.sav'\n",
    "pickle.dump(gbt_reg, open(filename,'wb'))\n"
   ]
  }
 ],
 "metadata": {
  "interpreter": {
   "hash": "e0d1df7e1c407732142af604929ef2a2f2a1e312d7fef7f2f906208ef4a4a032"
  },
  "kernelspec": {
   "display_name": "Python 3.7.0 ('Repo')",
   "language": "python",
   "name": "python3"
  },
  "language_info": {
   "codemirror_mode": {
    "name": "ipython",
    "version": 3
   },
   "file_extension": ".py",
   "mimetype": "text/x-python",
   "name": "python",
   "nbconvert_exporter": "python",
   "pygments_lexer": "ipython3",
   "version": "3.8.10"
  },
  "orig_nbformat": 4
 },
 "nbformat": 4,
 "nbformat_minor": 2
}
